{
 "cells": [
  {
   "cell_type": "markdown",
   "id": "twenty-session",
   "metadata": {},
   "source": [
    "# **Scramble: Matrix**"
   ]
  },
  {
   "cell_type": "markdown",
   "id": "juvenile-italian",
   "metadata": {},
   "source": [
    "Let $$ A = \\begin{bmatrix} 1 & 3 & 2 & -1 \\\\ 3 & 3 & 4 & 1 \\\\ 1 & 0 & 0 & 0 \\end{bmatrix} $$ \n",
    "\n",
    "TODO:\n",
    "- Import `numpy` in as `np`, \n",
    "- read the matrix $A$ in as a numpy array. Assign it the character `A`, \n",
    "- assign $x$ to be the third column.\n",
    "- print $x$.\n",
    "  "
   ]
  },
  {
   "cell_type": "markdown",
   "id": "spatial-excitement",
   "metadata": {},
   "source": [
    "---\n",
    "Import `numpy` in as `np`, "
   ]
  },
  {
   "cell_type": "code",
   "execution_count": 1,
   "id": "behind-calcium",
   "metadata": {},
   "outputs": [],
   "source": [
    "import numpy as np"
   ]
  },
  {
   "cell_type": "markdown",
   "id": "occupational-ambassador",
   "metadata": {},
   "source": [
    "read the matrix $A$ in as a numpy array, "
   ]
  },
  {
   "cell_type": "code",
   "execution_count": 7,
   "id": "assigned-property",
   "metadata": {},
   "outputs": [
    {
     "name": "stdout",
     "output_type": "stream",
     "text": [
      "[[ 1  3  2 -1]\n",
      " [ 3  3  4  1]\n",
      " [ 1  0  0  0]]\n"
     ]
    }
   ],
   "source": [
    "A =np.array([[1, 3, 2, -1], [3, 3, 4, 1], [1, 0, 0, 0]])\n",
    "print(A)"
   ]
  },
  {
   "cell_type": "markdown",
   "id": "upset-lithuania",
   "metadata": {},
   "source": [
    "assign $x$ to be the third column."
   ]
  },
  {
   "cell_type": "code",
   "execution_count": 10,
   "id": "intensive-award",
   "metadata": {},
   "outputs": [],
   "source": [
    "x = A[:,2]"
   ]
  },
  {
   "cell_type": "markdown",
   "id": "removed-iceland",
   "metadata": {},
   "source": [
    "print $x$."
   ]
  },
  {
   "cell_type": "markdown",
   "id": "freelance-uruguay",
   "metadata": {},
   "source": [
    "---"
   ]
  },
  {
   "cell_type": "code",
   "execution_count": 9,
   "id": "adolescent-template",
   "metadata": {},
   "outputs": [
    {
     "name": "stdout",
     "output_type": "stream",
     "text": [
      "[2 4 0]\n"
     ]
    }
   ],
   "source": [
    "print(x)"
   ]
  },
  {
   "cell_type": "code",
   "execution_count": null,
   "id": "exempt-leisure",
   "metadata": {},
   "outputs": [],
   "source": []
  }
 ],
 "metadata": {
  "kernelspec": {
   "display_name": "Python 3",
   "language": "python",
   "name": "python3"
  },
  "language_info": {
   "codemirror_mode": {
    "name": "ipython",
    "version": 3
   },
   "file_extension": ".py",
   "mimetype": "text/x-python",
   "name": "python",
   "nbconvert_exporter": "python",
   "pygments_lexer": "ipython3",
   "version": "3.6.9"
  }
 },
 "nbformat": 4,
 "nbformat_minor": 5
}
