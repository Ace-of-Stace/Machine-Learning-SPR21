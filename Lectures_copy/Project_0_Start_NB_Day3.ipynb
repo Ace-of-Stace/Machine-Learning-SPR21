{
 "cells": [
  {
   "cell_type": "markdown",
   "id": "inner-theme",
   "metadata": {},
   "source": [
    "# **Project 0:** Random Garden, \n",
    "This notebook is a full example of the process of reading in and working with data, as well as how to apply k nearest neighbor and k means to data. There are examples included that help to showcase, plotting, DataFrames, json files, np.arrays as well as many other python tools. In addition to these python elements, we also have the integration and utilization of the a production version of the code from class. The result of the code allows us to compare KNN and Kmeans and reflect on the differences as we start to build foundational intuition around these two tools.   "
   ]
  },
  {
   "cell_type": "markdown",
   "id": "conceptual-electric",
   "metadata": {},
   "source": [
    "---\n",
    "Overview:\n",
    "- Data read in (both data sets)\n",
    "    - Classical Flower Set --> `/Data/biology/Iris.csv`\n",
    "    - Random Garden Data --> `/Data/biology/Garden_Data.csv`\n",
    "- Display data. \n",
    "- K-Means\n",
    "    - Save result\n",
    "- KNN\n",
    "    - Save result\n",
    "- Compare the results. \n",
    "- Reflect.\n",
    "---"
   ]
  },
  {
   "cell_type": "code",
   "execution_count": null,
   "id": "metropolitan-bishop",
   "metadata": {},
   "outputs": [],
   "source": [
    "# Allows us to use custom modules\n",
    "import sys\n",
    "sys.path.append(\"/home/Files/\") \n",
    "\n",
    "import numpy as np # Math.\n",
    "import matplotlib.pyplot as plt # Plotting.\n",
    "import pandas as pd # Data.\n",
    "import json #Dictionary style file that allows for key word search\n",
    "\n",
    "# Custom module made from a rebuild of the lectures code (Christian and Joe).\n",
    "from rrccml.KNN import KNN\n",
    "from rrccml.KMeans import kmeans"
   ]
  },
  {
   "cell_type": "markdown",
   "id": "floral-helmet",
   "metadata": {},
   "source": [
    "## **Data Read** (Feb 8th/9th)"
   ]
  },
  {
   "cell_type": "markdown",
   "id": "choice-designer",
   "metadata": {},
   "source": [
    "_Scramble 0.1:_ Read in both data sets as `Dataframes` and assign them to two variables. (Paths to the data above)"
   ]
  },
  {
   "cell_type": "code",
   "execution_count": null,
   "id": "subject-needle",
   "metadata": {},
   "outputs": [],
   "source": [
    "# Read in the unlabeled garden data and the labeled iris data.\n",
    "garden_raw_data = pd.read_csv(\"~/Data/biology/Garden_Data.csv\", names=[\"Feature_1\",\"Feature_2\",\"Feature_3\",\"Feature_4\"])\n",
    "iris_raw_data = pd.read_csv(\"~/Data/biology/Iris.csv\")"
   ]
  },
  {
   "cell_type": "markdown",
   "id": "bacterial-source",
   "metadata": {},
   "source": [
    "_Scramble 0.2:_ Print some of the data from each of the sets. Take notes to share on what you see."
   ]
  },
  {
   "cell_type": "code",
   "execution_count": null,
   "id": "temporal-matter",
   "metadata": {},
   "outputs": [],
   "source": [
    "# Print the start of the garden_raw_data dataframe.\n",
    "garden_raw_data.head() # Pandas head() method is used to return top n (5 by default) rows of a data frame or series."
   ]
  },
  {
   "cell_type": "code",
   "execution_count": null,
   "id": "impossible-unemployment",
   "metadata": {},
   "outputs": [],
   "source": [
    "# Rename the string species as 0 , 1 , 2.\n",
    "iris_raw_data[\"Num_Cat\"] = iris_raw_data[\"Species\"].map({\"Iris-setosa\" : 0, \"Iris-versicolor\": 1,  'Iris-virginica': 2}) #map() function returns a map object(which is an iterator) of the results after applying the given function \n",
    "# to each item of a given iterable (list, tuple etc.)"
   ]
  },
  {
   "cell_type": "code",
   "execution_count": null,
   "id": "disabled-school",
   "metadata": {},
   "outputs": [],
   "source": [
    "# Print the keys for the data.\n",
    "iris_raw_data.keys() #keys() method in Python Dictionary, returns a view object that displays a list of all the keys in the dictionary."
   ]
  },
  {
   "cell_type": "code",
   "execution_count": null,
   "id": "accessible-transportation",
   "metadata": {},
   "outputs": [],
   "source": [
    "# Assign iris_raw_data to just the features and the numbers for the species.\n",
    "iris_raw_data = iris_raw_data[['SepalLengthCm', 'SepalWidthCm', 'PetalLengthCm', 'PetalWidthCm', 'Num_Cat']]\n",
    "iris_raw_data"
   ]
  },
  {
   "cell_type": "markdown",
   "id": "outside-cloud",
   "metadata": {},
   "source": [
    "_Scramble 0.3:_ Name the features (columns) of the `Garden_Data.csv`."
   ]
  },
  {
   "cell_type": "code",
   "execution_count": null,
   "id": "demographic-moment",
   "metadata": {},
   "outputs": [],
   "source": [
    "# This was done in the readin line above."
   ]
  },
  {
   "cell_type": "markdown",
   "id": "educated-effect",
   "metadata": {},
   "source": [
    "_Scramble 0.4:_ Save the data frame using. \n",
    "```Python\n",
    "pandas.DataFrame.to_csv\n",
    "```"
   ]
  },
  {
   "cell_type": "code",
   "execution_count": null,
   "id": "subjective-action",
   "metadata": {},
   "outputs": [],
   "source": [
    "# This will save a csv file with the column-labeled garden data next to the notebook.\n",
    "pd.DataFrame.to_csv(garden_raw_data, \"Garden_Data_Labeled.csv\")"
   ]
  },
  {
   "cell_type": "markdown",
   "id": "japanese-american",
   "metadata": {},
   "source": [
    "## **Data Display**"
   ]
  },
  {
   "cell_type": "markdown",
   "id": "changed-commission",
   "metadata": {},
   "source": [
    "_Scramble 0.5:_ Plot a scatter plot. Of two of the features using. Once you have one set plotted, plot other features with respect to each other. \n",
    "\n",
    "```Python\n",
    "plt.scatter(f1,f2)\n",
    "```\n"
   ]
  },
  {
   "cell_type": "code",
   "execution_count": null,
   "id": "stopped-ethernet",
   "metadata": {},
   "outputs": [],
   "source": [
    "plt.scatter(garden_raw_data[\"Feature_1\"], garden_raw_data[\"Feature_2\"])\n",
    "plt.show()"
   ]
  },
  {
   "cell_type": "code",
   "execution_count": null,
   "id": "criminal-zambia",
   "metadata": {},
   "outputs": [],
   "source": [
    "plt.scatter(iris_raw_data[\"PetalLengthCm\"], iris_raw_data[\"PetalWidthCm\"], c = iris_raw_data[\"Num_Cat\"]) # What is this graphing?\n",
    "plt.show()"
   ]
  },
  {
   "cell_type": "markdown",
   "id": "mental-roommate",
   "metadata": {},
   "source": [
    "---"
   ]
  },
  {
   "cell_type": "markdown",
   "id": "banned-marshall",
   "metadata": {},
   "source": [
    "## **KNN Integration** (Feb 12th)"
   ]
  },
  {
   "cell_type": "markdown",
   "id": "running-acting",
   "metadata": {},
   "source": [
    "This next cell take 5 inputs. The labeled data, the number of times we should loop over all the data, the number of features, the percent of data to be training, the k's to range over. \n",
    "\n",
    "```Python\n",
    "KNN.determine_k(DataFrame, times_through_all_data, number_of_features, percentage, [low_k, high_k])\n",
    "```\n",
    "\n",
    "The output of this function is the scores for each of the `times_through_all_data` and the best `k` overall."
   ]
  },
  {
   "cell_type": "code",
   "execution_count": null,
   "id": "communist-apartment",
   "metadata": {},
   "outputs": [],
   "source": [
    "# determine_k was written in a previous lecture K_Means (I think)?"
   ]
  },
  {
   "cell_type": "markdown",
   "id": "fancy-programmer",
   "metadata": {},
   "source": [
    "### **Exercise 1:** \n",
    "\n",
    "Change the values of, `times_through_all_data`, `number_of_features`, `percentage`, `[low_k, high_k]`. Run this cell a few times and take a look at the output. \n",
    "\n",
    "Questions:\n",
    "- Why does it take so long to run this cell?\n",
    "- How many features can we have for the iris data set?\n",
    "- Do we need to check all `k` values to 150? Looking at the images, what should the `high_k` be.\n",
    "- What does it look like the best value for `k` is?\n"
   ]
  },
  {
   "cell_type": "code",
   "execution_count": null,
   "id": "sacred-survival",
   "metadata": {},
   "outputs": [],
   "source": [
    "general_overview, k = KNN.determine_k(pd.DataFrame(iris_raw_data), 20, 2, .60, [1,90]) #Runs through data 20 times looking for k's, 2 features examined\n",
    "# The 150 is to run through all 150 data points, but as we see, it drops off at about 90, so could reduce 150 to 90 to reduce computation time.\n",
    "# Look for graph that gives best accuracy or average the trials, so getting to about 90 nearest neighbors, the accuracy drops to 0\n",
    "# Each test trials resamples testing and training data\n",
    "# 20 runs through 20 times. We can change this.This helps us determine the best number of nearest neighbors\n",
    "# 2 is number of geatures we're going to look at.\n",
    "# .60 is the percent for training\n",
    "# tqdm gives status bar, nice to know program hasn't stalled\n",
    "# Every line of source code has been commented  if you check Contextual Help\n",
    "# Change the numbers and see what happens\n",
    "# ALL OF THIS IS DETERMINE THE BEST k!!!"
   ]
  },
  {
   "cell_type": "markdown",
   "id": "wireless-sacramento",
   "metadata": {},
   "source": [
    "The `general_overview` is the collections of all the scores for each k for all the `times_through_all_data`. The goal is to find the best `k` for the data, so considering all the runs together can help to find this.\n",
    "\n",
    "While there are many ways to find this \"best\" `k`, the way that the code here finds this averaging the best performing `k` for each of the runs.\n",
    "\n",
    "### **Exercise 2:**\n",
    "- What do each of the values in the shape of `general_overview` represent?\n",
    "- `print(k)` tells us the best `k`. What does this `k` mean?"
   ]
  },
  {
   "cell_type": "code",
   "execution_count": null,
   "id": "swiss-sympathy",
   "metadata": {},
   "outputs": [],
   "source": [
    "#print(general_overview)\n",
    "#print(k) #This gives accuracy so 1 is 93%, 2 is 86%\n",
    "# (print shape gives array numbers)# Numbers below mean 20 iterations, 0-149 data points, "
   ]
  },
  {
   "cell_type": "code",
   "execution_count": null,
   "id": "representative-firewall",
   "metadata": {},
   "outputs": [],
   "source": [
    "print(np.shape(general_overview))\n",
    "print(k) #This shows number of trials, the number of data points considered and the 2 columns of \"neighbor\" and \"accuracy\"\n",
    "# So below, the 11 is the determined number of nearest neighbors, or k"
   ]
  },
  {
   "cell_type": "code",
   "execution_count": null,
   "id": "opponent-steering",
   "metadata": {},
   "outputs": [],
   "source": []
  },
  {
   "cell_type": "markdown",
   "id": "previous-phenomenon",
   "metadata": {},
   "source": [
    "In the next cell we will classify each of the data point of the `Garden_Data.csv'`. The `knn` method allows us to pass it a point that we need classified and a data set to compare against. This method also allows set the value of `k`. We can use the one that we found above. \n",
    "\n",
    "```Python\n",
    "KNN.knn( point_to_classify , [classified_data_features, classified_data_targets] , k)\n",
    "```"
   ]
  },
  {
   "cell_type": "code",
   "execution_count": null,
   "id": "introductory-hypothesis",
   "metadata": {},
   "outputs": [],
   "source": [
    "# KNN.knn () This part is DEPLOYING!! THIS USES THE BEST k WE FOUND AND EMPLOYS IT!!\n",
    "# points to classify: these are unclassified data points, takes a single\n",
    "# Number of features to include. \n",
    "f = 4\n",
    "\n",
    "# Make the iris_raw_data into a numpy array, which has name tags (classified)\n",
    "iris_raw_data_array = np.array(iris_raw_data)\n",
    "\n",
    "# List to collect the classes for each datapoint.\n",
    "classes = []\n",
    "\n",
    "# Loop over all the garden data, which does not have name tags (unclassified)\n",
    "for x in np.array(garden_raw_data): #Takes all data from garden data and puts into method (compares to specified labeled neighbors )\n",
    "    classes.append(int(KNN.knn( x, [iris_raw_data_array[:, :f], iris_raw_data_array[:, -1]] , k)))\n",
    "    # best k value we discovered was \"29\" as seen above, could also put \"k\" so each time it was calculated, it would stick it in here\n",
    "    # ex     classes.append(int(KNN.knn( x, [iris_raw_data_array[:, :f], iris_raw_data_array[:, -1]] , k)))"
   ]
  },
  {
   "cell_type": "code",
   "execution_count": null,
   "id": "approximate-volleyball",
   "metadata": {},
   "outputs": [],
   "source": [
    "# Cast the classes into an array.\n",
    "Guess = np.array(classes)\n",
    "\n",
    "# Show how many of each classification we have found.\n",
    "print(np.unique(Guess, return_counts=True)) #unique command, will tell unique values number of elements represented\n",
    "#Below this array says there are 200 of one type, 197 of another and 203 of a third. This is pretty accurate since there were 200 of each."
   ]
  },
  {
   "cell_type": "markdown",
   "id": "southeast-empty",
   "metadata": {},
   "source": [
    "The next cell reads in the answer key and compares our findings with the key.\n",
    "\n",
    "### **Exercise 3:**\n",
    "What does the output of,\n",
    "\n",
    "```Python\n",
    "np.unique(np.array(Guess) - np.array(Answer) ,return_counts=True)\n",
    "```\n",
    "\n",
    "do?\n",
    "\n"
   ]
  },
  {
   "cell_type": "code",
   "execution_count": null,
   "id": "automatic-yorkshire",
   "metadata": {},
   "outputs": [],
   "source": [
    "Answer = np.loadtxt(\"/home/stacie_barbarick/Data/biology/Garden_Data_Key.csv\", dtype=float)\n",
    "print(np.unique(np.array(Guess) - np.array(Answer) ,return_counts=True)) #Took answer key subtract guess, if answer is 0, it was correct"
   ]
  },
  {
   "cell_type": "code",
   "execution_count": null,
   "id": "guided-aluminum",
   "metadata": {},
   "outputs": [],
   "source": [
    "585/600 #This shows that 576 of the 600 data points were correct, or 97.5%"
   ]
  },
  {
   "cell_type": "markdown",
   "id": "pursuant-improvement",
   "metadata": {},
   "source": [
    "## **K Means Integration**"
   ]
  },
  {
   "cell_type": "code",
   "execution_count": null,
   "id": "previous-circulation",
   "metadata": {},
   "outputs": [],
   "source": [
    "# Reminder: K Means unsuoervised learning, creates clusters, finds centroids and measures distances from data point to centroid,\n",
    "# iteratively; used elbow function to find number of clusters, k."
   ]
  },
  {
   "cell_type": "markdown",
   "id": "metallic-designation",
   "metadata": {},
   "source": [
    "For K means we are going to use a configuration .json to control the setting for the algorithm. Often times with machine learning, using a file to control all the setting can help \n",
    "the process of running the code since the user won't need to change the variables in the source code, or answer inputs. \n",
    "\n",
    "The configuration for the K means structure is:\n",
    "\n",
    "```Python\n",
    "config = {\"title\": \" \", <--- # Title of the configuration\n",
    "        \"data_path\": \"\", <--- # Path to the data.\n",
    "        \"col_names\": [], <--- # Names for the columns\n",
    "        \"toggle_col_names\": True, <--- # Do the columns have names already.\n",
    "        \"k_range\": [1, 10], <--- # Range of values for k. \n",
    "        \"f\": [1,4], <--- # Location of the features in the data. (counting from 0)\n",
    "        \"each_k\": 1} <--- # Number of times to check each k. \n",
    "```\n",
    "This lets us set all the variables and functions before we start\n",
    "Now with this file we have a few choices. We could make it in a text editor and aim the algorithm at it. Or we can generate here with python and have it save it locally. Both options are totally valid, but it the spirit of everything for this project being in this notebook, we are going to generate these configurations here. "
   ]
  },
  {
   "cell_type": "markdown",
   "id": "legislative-paraguay",
   "metadata": {},
   "source": [
    "### **Exercise 4:**\n",
    "In the below cell the first configuration is all set. The `toggle_col_names` is True, since the `Iris.csv` data set has labels already. For the exercise, add the missing information for the second configuration. \n",
    "\n",
    "Notes about the `Garden_Data.csv`:\n",
    "- the original csv does not have labels.\n",
    "- the features are in columns 0,1,2,3.\n",
    "- the number of clusters is between 1 and 10. (This will be important for our k_range)\n",
    "\n"
   ]
  },
  {
   "cell_type": "code",
   "execution_count": null,
   "id": "psychological-accent",
   "metadata": {},
   "outputs": [],
   "source": [
    "config = {\"title\": \"Iris Configuration\", # The setup configuration file is a useful middle-ground between the setup script—which, ideally, would be opaque to installers\n",
    "        \"data_path\": \"~/Data/biology/Iris.csv\",\n",
    "        \"col_names\": [],\n",
    "        \"toggle_col_names\": True,\n",
    "        \"k_range\": [1, 10],\n",
    "        \"f\": [1,4],\n",
    "        \"each_k\": 1}\n",
    "\n",
    "with open('./iris_kmeans_config.json', 'w') as outfile:\n",
    "    json.dump(config, outfile)\n",
    "    \n",
    "config2 = {\"title\": \"Random Garden Data Configuration\",\n",
    "        \"data_path\": \"~/Data/biology/Garden_Data.csv\",\n",
    "        \"col_names\": [\"Feature_1\", \"Feature_2\", \"Feature_3\", \"Feature_4\"],\n",
    "        \"toggle_col_names\": False,\n",
    "        \"k_range\": [1, 10],\n",
    "        \"f\": [0, 3],\n",
    "        \"each_k\": 1}\n",
    "# k_range and f need to have the same values.\n",
    "with open('./RG_kmeans_config.json', 'w') as outfile:\n",
    "    json.dump(config2, outfile) #Will have to toggle between json files, these files have been created in my main directory"
   ]
  },
  {
   "cell_type": "markdown",
   "id": "handled-width",
   "metadata": {},
   "source": [
    "This next cell will apply k-means to the iris original data, as well as the random garden data. The output of this method will include all the tools that we need to determine the `k` that we should use as well as a few way to save and interact with the clusters. "
   ]
  },
  {
   "cell_type": "code",
   "execution_count": null,
   "id": "boxed-canada",
   "metadata": {},
   "outputs": [],
   "source": [
    "K_Iris = kmeans.kmeans(config=\"iris_kmeans_config.json\")\n",
    "K_Random_Garden = kmeans.kmeans(config=\"RG_kmeans_config.json\")"
   ]
  },
  {
   "cell_type": "markdown",
   "id": "present-circumstances",
   "metadata": {},
   "source": [
    "### **Exercise 5:**\n",
    "The methods that kmeans has are: \n",
    "    \n",
    "    Methods\n",
    "    -------\n",
    "    save_clusters : np.array\n",
    "        returns labeled points\n",
    "    show_clusters : None\n",
    "        plots clusters\n",
    "    show_variance : None\n",
    "        plots variance\n",
    "    _run : None\n",
    "        generates model\n",
    "        \n",
    "View the contextual help (right click in a python cell and choose it from the menu) Once this is open, click on the `kmeans` (the one on the right) in, \n",
    "```Python \n",
    "kmeans.kmeans(config=\"iris_kmeans_config.json\") \n",
    "```\n",
    "then click on the `Show Contextual Help` tab. You should see the method that we have above in this tab.\n",
    "\n",
    "Each of these methods will allow us to access some of the information that we computed above when we ran,\n",
    "\n",
    "```Python\n",
    "K_Iris = kmeans.kmeans(config=\"iris_kmeans_config.json\")\n",
    "K_Random_Garden = kmeans.kmeans(config=\"RG_kmeans_config.json\")\n",
    "```\n",
    "\n",
    "Let's take a look at some of this information."
   ]
  },
  {
   "cell_type": "markdown",
   "id": "perfect-swimming",
   "metadata": {},
   "source": [
    "### **Exercise 6**\n",
    "\n",
    "Run the cells below and consider the elbow graph for each. \n",
    "\n",
    "Looking at how the variance for the different amounts of clusters can help us to determine the number of clusters that we should use. This is called [The Elbow Method](https://en.wikipedia.org/wiki/Elbow_method_(clustering)). In the graphic we are looking for the cluster number where the variance of the data in the clusters settles.  \n",
    "\n",
    "What cluster number should we use with the elbow method in mind?"
   ]
  },
  {
   "cell_type": "code",
   "execution_count": null,
   "id": "elegant-printer",
   "metadata": {},
   "outputs": [],
   "source": [
    "K_Iris.show_variance()\n"
   ]
  },
  {
   "cell_type": "code",
   "execution_count": null,
   "id": "identical-grounds",
   "metadata": {},
   "outputs": [],
   "source": [
    "K_Random_Garden.show_variance()\n"
   ]
  },
  {
   "cell_type": "markdown",
   "id": "fifth-spray",
   "metadata": {},
   "source": [
    "### **Exercise 7:**\n",
    "The `save_clusters()` method allows us to view and save the clusters that we have computed. And while we may not have labels for the data (unsupervised) we can append the cluster label to each data value and see how the grouping look.\n",
    "\n",
    "The method `save_clusters()` take a few arguments, the first of which is the cluster number that you would like to view. \n",
    "\n",
    "- Set the cluster number to a few different values. Make sure it is an integer in the range that we set in the configuration above. (Will be 1 to 10 if we used the same as the given configuration)\n",
    "- Choose the cluster number that we determined with the above elbow graph and run the cell one more time.\n",
    "- After running the `save_clusters()` with the `k` from the elbow analysis, run the cells that follow to see the clustered data. "
   ]
  },
  {
   "cell_type": "code",
   "execution_count": null,
   "id": "elect-adobe",
   "metadata": {},
   "outputs": [],
   "source": [
    "Clusters_Iris = K_Iris.save_clusters(3)\n",
    "Clusters_RG = K_Random_Garden.save_clusters(3)"
   ]
  },
  {
   "cell_type": "code",
   "execution_count": null,
   "id": "ongoing-delhi",
   "metadata": {},
   "outputs": [],
   "source": [
    "Clusters_Iris"
   ]
  },
  {
   "cell_type": "code",
   "execution_count": null,
   "id": "absolute-milan",
   "metadata": {},
   "outputs": [],
   "source": [
    "Clusters_RG"
   ]
  },
  {
   "cell_type": "markdown",
   "id": "diverse-cowboy",
   "metadata": {},
   "source": [
    "---\n",
    "### **Compare Results** "
   ]
  },
  {
   "cell_type": "markdown",
   "id": "altered-tractor",
   "metadata": {},
   "source": [
    "The final few cells have us read in all the missing data and look at some plots of all our finding from KNN and Kmeans. "
   ]
  },
  {
   "cell_type": "markdown",
   "id": "universal-appendix",
   "metadata": {},
   "source": [
    "### **Exercise 8:**\n",
    "\n",
    "Run all the cells that follow and take some time to consider the graphs. Be thinking about the difference between KNN and Kmeans and what applications one might have over the other. \n",
    "\n",
    "_Note: You may need to run some of the cell in the data read-in section as well as the KNN section. This brings everything together, so all the data and processing will be necessary._ "
   ]
  },
  {
   "cell_type": "code",
   "execution_count": null,
   "id": "contrary-monroe",
   "metadata": {},
   "outputs": [],
   "source": [
    "iris_data = pd.read_csv(\"~/Data/biology/Iris.csv\")"
   ]
  },
  {
   "cell_type": "code",
   "execution_count": null,
   "id": "expressed-asset",
   "metadata": {},
   "outputs": [],
   "source": [
    "fig, ((ax1, ax2), (ax3, ax4)) = plt.subplots(nrows=2, ncols=2, sharex=True, sharey=True)\n",
    "fig.set_size_inches(18.5, 10.5)\n",
    "\n",
    "ax1.scatter(Clusters_Iris[0], Clusters_Iris[1], c= Clusters_Iris[\"Cluster_Index\"])\n",
    "ax1.set_title(\"K means grouping on Iris data\", fontsize=8)\n",
    "#plt.title(\"K means grouping on Iris data\", fontsize=8)\n",
    "\n",
    "ax2.scatter(Clusters_RG[0], Clusters_RG[1], c= Clusters_RG[\"Cluster_Index\"])\n",
    "ax2.set_title(\"K means grouping on Random Garden data\", fontsize=8)\n",
    "\n",
    "ax3.scatter(iris_data[\"SepalLengthCm\"], iris_data[\"SepalWidthCm\"], c= pd.factorize(iris_data[\"Species\"])[0])\n",
    "ax3.set_title(\"Real Iris Data Grouping\", fontsize=8)\n",
    "\n",
    "ax4.scatter(garden_raw_data[\"Feature_1\"], garden_raw_data[\"Feature_2\"], c= Answer)\n",
    "ax4.set_title(\"Real Random Garden Data Grouping\", fontsize=8)\n",
    "\n",
    "plt.show()\n"
   ]
  },
  {
   "cell_type": "code",
   "execution_count": null,
   "id": "activated-bones",
   "metadata": {},
   "outputs": [],
   "source": [
    "fig, ((ax1, ax2, ax3), (ax4, ax5, ax6)) = plt.subplots(nrows=2, ncols=3, sharex=True, sharey=True)\n",
    "fig.set_size_inches(18.5, 10.5)\n",
    "\n",
    "ax1.scatter(garden_raw_data[\"Feature_1\"], garden_raw_data[\"Feature_2\"], c= Answer)\n",
    "ax1.set_title(\"Real Random Garden Data Grouping\", fontsize=8)\n",
    "\n",
    "ax2.scatter(Clusters_RG[0], Clusters_RG[1], c= Clusters_RG[\"Cluster_Index\"])\n",
    "ax2.set_title(\"K means grouping on Random Garden data\", fontsize=8)\n",
    "\n",
    "ax3.scatter(garden_raw_data[\"Feature_1\"], garden_raw_data[\"Feature_2\"], c= Guess)\n",
    "ax3.set_title(\"K Nearest Neighbor Random Garden Data Classification\", fontsize=8)\n",
    "\n",
    "ax4.scatter(iris_data[\"SepalLengthCm\"], iris_data[\"SepalWidthCm\"], c = pd.factorize(iris_data[\"Species\"])[0])\n",
    "ax4.set_title(\"Real Iris Data Grouping\", fontsize=8)\n",
    "\n",
    "ax5.scatter(Clusters_Iris[0], Clusters_Iris[1], c= Clusters_Iris[\"Cluster_Index\"])\n",
    "ax5.set_title(\"K means grouping on Iris data\", fontsize=8)\n",
    "#plt.title(\"K means grouping on Iris data\", fontsize=8)\n",
    "\n",
    "plt.show()"
   ]
  },
  {
   "cell_type": "markdown",
   "id": "developed-climate",
   "metadata": {},
   "source": [
    "---\n",
    "---"
   ]
  },
  {
   "cell_type": "code",
   "execution_count": null,
   "id": "smoking-panama",
   "metadata": {},
   "outputs": [],
   "source": []
  }
 ],
 "metadata": {
  "kernelspec": {
   "display_name": "Python 3",
   "language": "python",
   "name": "python3"
  },
  "language_info": {
   "codemirror_mode": {
    "name": "ipython",
    "version": 3
   },
   "file_extension": ".py",
   "mimetype": "text/x-python",
   "name": "python",
   "nbconvert_exporter": "python",
   "pygments_lexer": "ipython3",
   "version": "3.6.9"
  }
 },
 "nbformat": 4,
 "nbformat_minor": 5
}
