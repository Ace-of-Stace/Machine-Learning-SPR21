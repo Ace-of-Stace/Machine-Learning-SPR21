{
 "cells": [
  {
   "cell_type": "markdown",
   "id": "independent-potential",
   "metadata": {},
   "source": [
    "# **Lecture: Keras Introduction**"
   ]
  },
  {
   "cell_type": "code",
   "execution_count": null,
   "id": "trained-excerpt",
   "metadata": {},
   "outputs": [],
   "source": [
    "# Import tensorflow.TF is a ML tool developed by Google (like np on crack) created for ML; industry standard (pi torch, sk learn)\n",
    "#sk learn also works all around learning tool, Open CV computer vision tracking\n",
    "import tensorflow as tf\n",
    "\n",
    "# Pandas for the data, can use tensor flow instead of np. Tensors are ways to pile dimensions on top of each other. ex: pixels \n",
    "import pandas as pd #for data\n",
    "\n",
    "# Import the Keras tools. Keras API (overlay) built to make Tensorflow nicer, industry standard (comes with TF download)\n",
    "from tensorflow import keras\n",
    "from tensorflow.keras import layers\n",
    "from tensorflow.keras import models\n",
    "from tensorflow.keras.utils import to_categorical\n",
    "\n",
    "print(tf. __version__) #remember this command so you can align all versions\n",
    "print(pd. __version__)\n",
    "print(keras. __version__)\n",
    "\n",
    "physical_devices = tf.config.list_physical_devices('GPU') \n",
    "for gpu_instance in physical_devices: \n",
    "    tf.config.experimental.set_memory_growth(gpu_instance, True)"
   ]
  },
  {
   "cell_type": "markdown",
   "id": "seventh-zoning",
   "metadata": {},
   "source": [
    "## **The Data**"
   ]
  },
  {
   "cell_type": "code",
   "execution_count": null,
   "id": "recreational-puppy",
   "metadata": {},
   "outputs": [],
   "source": [
    "DATA = pd.read_csv(\"Data/biology/Iris.csv\")\n",
    "\n",
    "# Make an index for different binary categories .\n",
    "mapping = {\"Iris-setosa\": 0, \"Iris-versicolor\": 1, \"Iris-virginica\" : 1}\n",
    "# Map Setosa to -1 and the two other flowers to 1.\n",
    "DATA['Species'] = [mapping[item] for item in DATA['Species']]\n",
    "\n",
    "DATA.head()\n",
    "\n",
    "# Break into training and validation\n",
    "val_dataframe = DATA.sample(frac=0.2, random_state=1337) #panda commands should be relatively short; sample cmd is similar to iloc\n",
    "# sample (frac= percent of data to sample, random_state seed value used in randomization math, this was keras value)\n",
    "train_dataframe = DATA.drop(val_dataframe.index).sample(frac=1)\n",
    "train_dataframe.keys() #see what columns were named"
   ]
  },
  {
   "cell_type": "code",
   "execution_count": null,
   "id": "norwegian-sessions",
   "metadata": {},
   "outputs": [],
   "source": [
    "# Make the training data.\n",
    "X_train = train_dataframe[[\"SepalLengthCm\", \"SepalWidthCm\", \"PetalLengthCm\", \"PetalWidthCm\"]]\n",
    "y_train = train_dataframe[[\"Species\"]]\n",
    "# train_labels = to_categorical(y_train)"
   ]
  },
  {
   "cell_type": "markdown",
   "id": "stuffed-characteristic",
   "metadata": {},
   "source": [
    "## **The Network**"
   ]
  },
  {
   "cell_type": "code",
   "execution_count": null,
   "id": "cardiac-special",
   "metadata": {},
   "outputs": [],
   "source": [
    "# Setup the network layers. Connect to concept\n",
    "model = models.Sequential() #\"model\" can be named anything, but industry standard is \"model\"; sequential is left to right nature; will always be the ase in Keras; this is an object that we can attach elements to it with \"add\"\n",
    "model.add(layers.Dense(20, activation='sigmoid', input_shape=(4,), use_bias=False)) #dense layer is the interconnectedness, 20 vertical nodes\n",
    "# input shape 4 = number of features, these are how many columns there will be in the first layer, user input;  use bias yes or no?\n",
    "model.add(layers.Dense(10, activation='sigmoid', use_bias=False)) #sigmoid allows us to transit the node; this has 10 nodes\n",
    "model.add(layers.Dense(1, activation='sigmoid', use_bias=False)) #final single node, 0 or 1 that allows me to binary classify\n",
    "\n",
    "model.compile(optimizer='SGD', loss='binary_crossentropy', metrics=['accuracy']) #stochastic gradient descent, data scientist selects this (Adam optimizer GD with more things, performs better)\n",
    "# loss= log loss equation, can build custom loss functions accuracy how many done right vs how many done wrong\n",
    "# this line of code is what loads the GPU (you can take control of it then, so be aware of that)\n",
    "# when run \"compile\" command, clock is started, so when done wash dishes"
   ]
  },
  {
   "cell_type": "code",
   "execution_count": null,
   "id": "honey-sixth",
   "metadata": {},
   "outputs": [],
   "source": [
    "keras.utils.plot_model(model, show_shapes=True, rankdir=\"LR\")"
   ]
  },
  {
   "cell_type": "code",
   "execution_count": null,
   "id": "commercial-jefferson",
   "metadata": {},
   "outputs": [],
   "source": [
    "model.summary()"
   ]
  },
  {
   "cell_type": "markdown",
   "id": "freelance-average",
   "metadata": {},
   "source": [
    "## **Training**"
   ]
  },
  {
   "cell_type": "code",
   "execution_count": null,
   "id": "recreational-stage",
   "metadata": {},
   "outputs": [],
   "source": [
    "model.fit(X_train, y_train, epochs=500, batch_size=40, verbose = 1) #change learning rate, change batches, etc to figure out the best case scenario\n",
    "# fit command (accuracy is hoping for 1, stuck at .7, this was the vanishing gradient problem, local minimum)  "
   ]
  },
  {
   "cell_type": "markdown",
   "id": "alone-trance",
   "metadata": {},
   "source": [
    "## **Deploy**"
   ]
  },
  {
   "cell_type": "code",
   "execution_count": null,
   "id": "sixth-threat",
   "metadata": {},
   "outputs": [],
   "source": [
    "model.predict([[.45,.45,.45,.34]]) #can predict with a \"fake flower\" to get classification"
   ]
  }
 ],
 "metadata": {
  "kernelspec": {
   "display_name": "Python 3",
   "language": "python",
   "name": "python3"
  },
  "language_info": {
   "codemirror_mode": {
    "name": "ipython",
    "version": 3
   },
   "file_extension": ".py",
   "mimetype": "text/x-python",
   "name": "python",
   "nbconvert_exporter": "python",
   "pygments_lexer": "ipython3",
   "version": "3.6.9"
  }
 },
 "nbformat": 4,
 "nbformat_minor": 5
}
