{
 "cells": [
  {
   "cell_type": "markdown",
   "id": "cathedral-affiliate",
   "metadata": {},
   "source": [
    "# **Project Smartphone Motion**"
   ]
  },
  {
   "cell_type": "markdown",
   "id": "domestic-sister",
   "metadata": {},
   "source": [
    "## **Introduction**"
   ]
  },
  {
   "cell_type": "markdown",
   "id": "beneficial-warrant",
   "metadata": {},
   "source": [
    "This is a \"break the seal\" project. The full scope of this project would take 2 months to complete, but a scramble style project rush would be a great way to get working. Below we will find information about the project, the timeline and the subteams. This notebook also includes the deliverables and the dates for those. We will use a similar project model for the Kaggle project later in the semester. \n",
    "\n",
    "The Data for this project is located at: `Data/recreation/HAR_data` and the original source is:\n",
    "[SOURCE](https://archive.ics.uci.edu/ml/datasets/Smartphone-Based+Recognition+of+Human+Activities+and+Postural+Transitions)"
   ]
  },
  {
   "cell_type": "markdown",
   "id": "peaceful-mention",
   "metadata": {},
   "source": [
    "### **Seed Thought:**\n",
    "Given the HAR movement data set, can a neural network be trained to classify movements? From there, can an android application be found that can collect the features, and can we get the network and the application to interact at all? "
   ]
  },
  {
   "cell_type": "markdown",
   "id": "behind-stockholm",
   "metadata": {},
   "source": [
    "### **TimeLine**\n",
    "\n",
    "| Monday       | Tuesday     | Wednesday   | Thursday  | Friday | Saturday | Sunday\n",
    "| :------------- | :----------: | :-----------: | :-----------: | :-----------: | :-----------: | :-----------: |\n",
    "|  Introduce the Project|  Office Hours   | **Data Post Due**    | Office Hour | _Data Team Present_ | | |\n",
    "| _Network Team Present_   | Office Hour | **Applications Post Due** | Office Hour | _Deployment Team Present_| "
   ]
  },
  {
   "cell_type": "markdown",
   "id": "bronze-perception",
   "metadata": {},
   "source": [
    "### **Deliverables**\n",
    "\n",
    "- Each team member must post and respond to another post, on the **Data Discussion Post** and the **Applications Discussion Post**. These are due Wednesday night by 11:59 pm on D2L (March 17 (**Data**)) and (March 24 (**Application**)). Below you will find more information on the posts (this info is also on D2L in the discussions). (20 points)\n",
    "- Each team member must present with their team on the day that their team presents. (10 points)\n",
    "- Each team member must write up a one-page, project reflection and post it in the discussion forum. Below you will find more information on the reflection (10 points)"
   ]
  },
  {
   "cell_type": "markdown",
   "id": "macro-ghost",
   "metadata": {},
   "source": [
    "### **Sub-Teams:**\n",
    "\n",
    "_Data Analysis Team_ (Presentation date March 19th)\n",
    "- Anton\n",
    "- Joanna\n",
    "- Cassidy\n",
    "\n",
    "_Network Architecture Team_ (Presentation date March 21)\n",
    "- Joe\n",
    "- Jack\n",
    "- Christian\n",
    "\n",
    "_Deployment Research Team_ (Presentation date March 24)\n",
    "- Eddie\n",
    "- Stacie"
   ]
  },
  {
   "cell_type": "markdown",
   "id": "initial-anger",
   "metadata": {},
   "source": [
    "---\n",
    "## **Sub-Teams Project Overview**"
   ]
  },
  {
   "cell_type": "markdown",
   "id": "close-newcastle",
   "metadata": {},
   "source": [
    "### **Data Analysis Team**\n",
    "The data analysis team's core project goal is to evaluate what the data is and how we might get it ready for training. The team should focus on getting the data read in and identifying features that might be good to train on. This team should also determine what the targets are and decide what targets the project should focus on. Finally, this team will have the post history from the discussions to build off of, and should compile the global teams thoughts as part of the presentation. This team will have 30 min at the start of class on March 19th to present their findings, and make their recommendations.   Apps to collect more data? Build elements of that data pipeline (full read in for network architecture); decide on which features should be included in analysis."
   ]
  },
  {
   "cell_type": "markdown",
   "id": "liberal-burst",
   "metadata": {},
   "source": [
    "### **Network Architecture Team**\n",
    "This team will take the Data team's code, findings and recommendations, to train the network. The team should start with general network design, even before \"data day\" so that once features and targets have been selected, a network can be stood up and trained. This team will work closely with the data team to make sure the data read pipeline will work with the network, and they will work with the deployment team to determine if the network can be utilized with collected data. This team will have 30 min at the start of class on March 21st to present their network and code to the global team.  Getting neural network up, tailoring to data teams suggestions, training. Have results about training on Monday. \"Get x, y, z results\" Will the network?"
   ]
  },
  {
   "cell_type": "markdown",
   "id": "dress-subscriber",
   "metadata": {},
   "source": [
    "### **Deployment Research Team**\n",
    "This team will research tools that we could use to collect feature data and how it might be cleaned to work with our network. This team will need to have access to Google Play application, (or other tools). They will work to find a solution that works with the data team's feature choices as well as the network teams network architecture. They will have the notes from the global group discussions, and should build on these to find the best way to move into data collection. This team will have 30 min at the start of class on March 24th to present their findings. Focus on features decided upon and find apps to suggest.Recommendations to company for circuit design, further testing, apps needed, etc)"
   ]
  },
  {
   "cell_type": "markdown",
   "id": "equipped-saskatchewan",
   "metadata": {},
   "source": [
    "---\n",
    "## **Discussion Posts Overview**"
   ]
  },
  {
   "cell_type": "markdown",
   "id": "convenient-secretariat",
   "metadata": {},
   "source": [
    "### **Data Post**\n",
    "Every member of the team needs to post three general thoughts about the data as well as one image generated in Python from the data. After posting, each team member should respond to another team member's post, adding to the conversation that they will have started. "
   ]
  },
  {
   "cell_type": "markdown",
   "id": "deadly-forward",
   "metadata": {},
   "source": [
    "### **Application Post**\n",
    "Every team member must post some information on how we could collect the feature data using a smartphone. This can include applications that have been found, or devices that we could use."
   ]
  },
  {
   "cell_type": "markdown",
   "id": "unauthorized-problem",
   "metadata": {},
   "source": [
    "## **Reflection Overview**"
   ]
  },
  {
   "cell_type": "markdown",
   "id": "commercial-soccer",
   "metadata": {},
   "source": [
    "The reflection should be around 1 page and directed to the team. This would serve as a \"thought archive\" for the future of the project. The reflection should be in paragraph form and address the questions below. Once finished, the reflection should be posted in the discussion forum. The due date for this one is at the end of the break, but I would encourage you to think about these questions as you are working on the project and use these notes collected throughout the project development to write up the formal reflection.\n",
    "\n",
    "Reflection questions:\n",
    "- What elements of the data seem to be the most challenging? \n",
    "- Does the network seem to show promise? Should we continue with the design we landed on? Explain your thoughts.\n",
    "- How challenging will it be to collect the data? What form do we need the data to be in to work with it?\n",
    "- What would be the best final package for the entire project? Given a full project timeline and scope, what should the end goal be?\n",
    "- Where are the biggest challenges that you see moving forward? Do you think that the project should continue?\n",
    "- Any final project thoughts or notes to include for others moving forward."
   ]
  },
  {
   "cell_type": "code",
   "execution_count": null,
   "id": "hazardous-onion",
   "metadata": {},
   "outputs": [],
   "source": []
  }
 ],
 "metadata": {
  "kernelspec": {
   "display_name": "Python 3",
   "language": "python",
   "name": "python3"
  },
  "language_info": {
   "codemirror_mode": {
    "name": "ipython",
    "version": 3
   },
   "file_extension": ".py",
   "mimetype": "text/x-python",
   "name": "python",
   "nbconvert_exporter": "python",
   "pygments_lexer": "ipython3",
   "version": "3.6.9"
  }
 },
 "nbformat": 4,
 "nbformat_minor": 5
}
