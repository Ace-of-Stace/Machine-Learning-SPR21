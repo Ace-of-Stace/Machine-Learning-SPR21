{
 "cells": [
  {
   "cell_type": "markdown",
   "id": "spatial-communication",
   "metadata": {},
   "source": [
    "# **Project 0:** Start Notebook"
   ]
  },
  {
   "cell_type": "markdown",
   "id": "appointed-asset",
   "metadata": {},
   "source": [
    "---\n",
    "Overview:\n",
    "- Data read in (both data sets)\n",
    "    - Classical Flower Set --> `/Data/biology/Iris.csv`\n",
    "    - Random Garden Data --> `/Data/biology/Garden_Data.csv`\n",
    "- Display data. \n",
    "- K-Means\n",
    "    - Save result\n",
    "- KNN\n",
    "    - Save result\n",
    "- Compare the results. \n",
    "- Reflect.\n",
    "---"
   ]
  },
  {
   "cell_type": "code",
   "execution_count": 2,
   "id": "vocal-destruction",
   "metadata": {},
   "outputs": [],
   "source": [
    "import numpy as np\n",
    "import matplotlib.pyplot as plt\n",
    "import pandas as pd"
   ]
  },
  {
   "cell_type": "markdown",
   "id": "immune-triumph",
   "metadata": {},
   "source": [
    "### **Data Read** (Feb 8th/9th)"
   ]
  },
  {
   "cell_type": "markdown",
   "id": "following-organization",
   "metadata": {},
   "source": [
    "_Scramble 0.1:_ Read in both data sets as `Dataframes` and assign them to two variables. (Paths to the data above)"
   ]
  },
  {
   "cell_type": "code",
   "execution_count": 13,
   "id": "exceptional-production",
   "metadata": {},
   "outputs": [],
   "source": [
    "A = pd.read_csv('Data/biology/Garden_Data.csv', names = [\"Feature_1\",\"Feature_2\",\"Feature_3\",\"Feature_4\"], delimiter=',').sample(frac=1)\n",
    "B = pd.read_csv('Data/biology/Iris.csv', names = [\"Feature_1\",\"Feature_2\",\"Feature_3\",\"Feature_4\"], delimiter=',').sample(frac=1)"
   ]
  },
  {
   "cell_type": "markdown",
   "id": "resident-credit",
   "metadata": {},
   "source": []
  },
  {
   "cell_type": "markdown",
   "id": "according-bicycle",
   "metadata": {},
   "source": [
    "_Scramble 0.2:_ Print some of the data from each of the sets. Take notes to share on what you see."
   ]
  },
  {
   "cell_type": "code",
   "execution_count": 14,
   "id": "conceptual-sheffield",
   "metadata": {},
   "outputs": [
    {
     "data": {
      "text/html": [
       "<div>\n",
       "<style scoped>\n",
       "    .dataframe tbody tr th:only-of-type {\n",
       "        vertical-align: middle;\n",
       "    }\n",
       "\n",
       "    .dataframe tbody tr th {\n",
       "        vertical-align: top;\n",
       "    }\n",
       "\n",
       "    .dataframe thead th {\n",
       "        text-align: right;\n",
       "    }\n",
       "</style>\n",
       "<table border=\"1\" class=\"dataframe\">\n",
       "  <thead>\n",
       "    <tr style=\"text-align: right;\">\n",
       "      <th></th>\n",
       "      <th>Feature_1</th>\n",
       "      <th>Feature_2</th>\n",
       "      <th>Feature_3</th>\n",
       "      <th>Feature_4</th>\n",
       "    </tr>\n",
       "  </thead>\n",
       "  <tbody>\n",
       "    <tr>\n",
       "      <th>538</th>\n",
       "      <td>6.98</td>\n",
       "      <td>2.93</td>\n",
       "      <td>5.78</td>\n",
       "      <td>2.22</td>\n",
       "    </tr>\n",
       "    <tr>\n",
       "      <th>79</th>\n",
       "      <td>5.02</td>\n",
       "      <td>2.98</td>\n",
       "      <td>1.43</td>\n",
       "      <td>0.17</td>\n",
       "    </tr>\n",
       "    <tr>\n",
       "      <th>352</th>\n",
       "      <td>5.56</td>\n",
       "      <td>3.12</td>\n",
       "      <td>4.03</td>\n",
       "      <td>1.41</td>\n",
       "    </tr>\n",
       "    <tr>\n",
       "      <th>121</th>\n",
       "      <td>4.88</td>\n",
       "      <td>2.91</td>\n",
       "      <td>1.45</td>\n",
       "      <td>0.21</td>\n",
       "    </tr>\n",
       "    <tr>\n",
       "      <th>476</th>\n",
       "      <td>6.37</td>\n",
       "      <td>2.69</td>\n",
       "      <td>5.00</td>\n",
       "      <td>1.83</td>\n",
       "    </tr>\n",
       "    <tr>\n",
       "      <th>...</th>\n",
       "      <td>...</td>\n",
       "      <td>...</td>\n",
       "      <td>...</td>\n",
       "      <td>...</td>\n",
       "    </tr>\n",
       "    <tr>\n",
       "      <th>195</th>\n",
       "      <td>5.28</td>\n",
       "      <td>3.80</td>\n",
       "      <td>1.56</td>\n",
       "      <td>0.28</td>\n",
       "    </tr>\n",
       "    <tr>\n",
       "      <th>17</th>\n",
       "      <td>4.99</td>\n",
       "      <td>3.00</td>\n",
       "      <td>1.53</td>\n",
       "      <td>0.06</td>\n",
       "    </tr>\n",
       "    <tr>\n",
       "      <th>38</th>\n",
       "      <td>5.82</td>\n",
       "      <td>4.29</td>\n",
       "      <td>1.52</td>\n",
       "      <td>0.32</td>\n",
       "    </tr>\n",
       "    <tr>\n",
       "      <th>483</th>\n",
       "      <td>7.34</td>\n",
       "      <td>2.94</td>\n",
       "      <td>6.39</td>\n",
       "      <td>1.75</td>\n",
       "    </tr>\n",
       "    <tr>\n",
       "      <th>31</th>\n",
       "      <td>5.02</td>\n",
       "      <td>3.61</td>\n",
       "      <td>1.38</td>\n",
       "      <td>0.21</td>\n",
       "    </tr>\n",
       "  </tbody>\n",
       "</table>\n",
       "<p>600 rows × 4 columns</p>\n",
       "</div>"
      ],
      "text/plain": [
       "     Feature_1  Feature_2  Feature_3  Feature_4\n",
       "538       6.98       2.93       5.78       2.22\n",
       "79        5.02       2.98       1.43       0.17\n",
       "352       5.56       3.12       4.03       1.41\n",
       "121       4.88       2.91       1.45       0.21\n",
       "476       6.37       2.69       5.00       1.83\n",
       "..         ...        ...        ...        ...\n",
       "195       5.28       3.80       1.56       0.28\n",
       "17        4.99       3.00       1.53       0.06\n",
       "38        5.82       4.29       1.52       0.32\n",
       "483       7.34       2.94       6.39       1.75\n",
       "31        5.02       3.61       1.38       0.21\n",
       "\n",
       "[600 rows x 4 columns]"
      ]
     },
     "execution_count": 14,
     "metadata": {},
     "output_type": "execute_result"
    }
   ],
   "source": [
    "A"
   ]
  },
  {
   "cell_type": "code",
   "execution_count": 15,
   "id": "orange-peter",
   "metadata": {},
   "outputs": [
    {
     "data": {
      "text/html": [
       "<div>\n",
       "<style scoped>\n",
       "    .dataframe tbody tr th:only-of-type {\n",
       "        vertical-align: middle;\n",
       "    }\n",
       "\n",
       "    .dataframe tbody tr th {\n",
       "        vertical-align: top;\n",
       "    }\n",
       "\n",
       "    .dataframe thead th {\n",
       "        text-align: right;\n",
       "    }\n",
       "</style>\n",
       "<table border=\"1\" class=\"dataframe\">\n",
       "  <thead>\n",
       "    <tr style=\"text-align: right;\">\n",
       "      <th></th>\n",
       "      <th></th>\n",
       "      <th>Feature_1</th>\n",
       "      <th>Feature_2</th>\n",
       "      <th>Feature_3</th>\n",
       "      <th>Feature_4</th>\n",
       "    </tr>\n",
       "  </thead>\n",
       "  <tbody>\n",
       "    <tr>\n",
       "      <th>68</th>\n",
       "      <th>5.8</th>\n",
       "      <td>2.7</td>\n",
       "      <td>4.1</td>\n",
       "      <td>1.0</td>\n",
       "      <td>Iris-versicolor</td>\n",
       "    </tr>\n",
       "    <tr>\n",
       "      <th>150</th>\n",
       "      <th>5.9</th>\n",
       "      <td>3.0</td>\n",
       "      <td>5.1</td>\n",
       "      <td>1.8</td>\n",
       "      <td>Iris-virginica</td>\n",
       "    </tr>\n",
       "    <tr>\n",
       "      <th>148</th>\n",
       "      <th>6.5</th>\n",
       "      <td>3.0</td>\n",
       "      <td>5.2</td>\n",
       "      <td>2.0</td>\n",
       "      <td>Iris-virginica</td>\n",
       "    </tr>\n",
       "    <tr>\n",
       "      <th>143</th>\n",
       "      <th>5.8</th>\n",
       "      <td>2.7</td>\n",
       "      <td>5.1</td>\n",
       "      <td>1.9</td>\n",
       "      <td>Iris-virginica</td>\n",
       "    </tr>\n",
       "    <tr>\n",
       "      <th>65</th>\n",
       "      <th>5.6</th>\n",
       "      <td>2.9</td>\n",
       "      <td>3.6</td>\n",
       "      <td>1.3</td>\n",
       "      <td>Iris-versicolor</td>\n",
       "    </tr>\n",
       "    <tr>\n",
       "      <th>...</th>\n",
       "      <th>...</th>\n",
       "      <td>...</td>\n",
       "      <td>...</td>\n",
       "      <td>...</td>\n",
       "      <td>...</td>\n",
       "    </tr>\n",
       "    <tr>\n",
       "      <th>11</th>\n",
       "      <th>5.4</th>\n",
       "      <td>3.7</td>\n",
       "      <td>1.5</td>\n",
       "      <td>0.2</td>\n",
       "      <td>Iris-setosa</td>\n",
       "    </tr>\n",
       "    <tr>\n",
       "      <th>63</th>\n",
       "      <th>6.0</th>\n",
       "      <td>2.2</td>\n",
       "      <td>4.0</td>\n",
       "      <td>1.0</td>\n",
       "      <td>Iris-versicolor</td>\n",
       "    </tr>\n",
       "    <tr>\n",
       "      <th>85</th>\n",
       "      <th>5.4</th>\n",
       "      <td>3.0</td>\n",
       "      <td>4.5</td>\n",
       "      <td>1.5</td>\n",
       "      <td>Iris-versicolor</td>\n",
       "    </tr>\n",
       "    <tr>\n",
       "      <th>46</th>\n",
       "      <th>4.8</th>\n",
       "      <td>3.0</td>\n",
       "      <td>1.4</td>\n",
       "      <td>0.3</td>\n",
       "      <td>Iris-setosa</td>\n",
       "    </tr>\n",
       "    <tr>\n",
       "      <th>19</th>\n",
       "      <th>5.7</th>\n",
       "      <td>3.8</td>\n",
       "      <td>1.7</td>\n",
       "      <td>0.3</td>\n",
       "      <td>Iris-setosa</td>\n",
       "    </tr>\n",
       "  </tbody>\n",
       "</table>\n",
       "<p>151 rows × 4 columns</p>\n",
       "</div>"
      ],
      "text/plain": [
       "        Feature_1 Feature_2 Feature_3        Feature_4\n",
       "68  5.8       2.7       4.1       1.0  Iris-versicolor\n",
       "150 5.9       3.0       5.1       1.8   Iris-virginica\n",
       "148 6.5       3.0       5.2       2.0   Iris-virginica\n",
       "143 5.8       2.7       5.1       1.9   Iris-virginica\n",
       "65  5.6       2.9       3.6       1.3  Iris-versicolor\n",
       "...           ...       ...       ...              ...\n",
       "11  5.4       3.7       1.5       0.2      Iris-setosa\n",
       "63  6.0       2.2       4.0       1.0  Iris-versicolor\n",
       "85  5.4       3.0       4.5       1.5  Iris-versicolor\n",
       "46  4.8       3.0       1.4       0.3      Iris-setosa\n",
       "19  5.7       3.8       1.7       0.3      Iris-setosa\n",
       "\n",
       "[151 rows x 4 columns]"
      ]
     },
     "execution_count": 15,
     "metadata": {},
     "output_type": "execute_result"
    }
   ],
   "source": [
    "B"
   ]
  },
  {
   "cell_type": "markdown",
   "id": "amazing-finance",
   "metadata": {},
   "source": [
    "_Scramble 0.3:_ Name the features (columns) of the `Garden_Data.csv`."
   ]
  },
  {
   "cell_type": "code",
   "execution_count": null,
   "id": "above-hostel",
   "metadata": {},
   "outputs": [],
   "source": [
    "#A = A.rename(columns = {}) # naming convention Features_1, Features_2, Features_3, Features_4"
   ]
  },
  {
   "cell_type": "code",
   "execution_count": null,
   "id": "compact-bennett",
   "metadata": {},
   "outputs": [],
   "source": []
  },
  {
   "cell_type": "markdown",
   "id": "private-holiday",
   "metadata": {},
   "source": [
    "_Scramble 0.4:_ Save the data frame using. \n",
    "```Python\n",
    "pandas.DataFrame.to_csv\n",
    "```"
   ]
  },
  {
   "cell_type": "code",
   "execution_count": 18,
   "id": "surprised-steering",
   "metadata": {},
   "outputs": [],
   "source": [
    "df = pd.DataFrame(A)\n",
    "df.to_csv('garden_data.csv')\n",
    "df = pd.DataFrame(B)\n",
    "df.to_csv('Iris.csv')"
   ]
  },
  {
   "cell_type": "code",
   "execution_count": null,
   "id": "lasting-macro",
   "metadata": {},
   "outputs": [],
   "source": []
  },
  {
   "cell_type": "markdown",
   "id": "detected-council",
   "metadata": {},
   "source": [
    "### **Data Display**"
   ]
  },
  {
   "cell_type": "markdown",
   "id": "impaired-headset",
   "metadata": {},
   "source": [
    "_Scramble 0.5:_ Plot a scatter plot. Of two of the features using. Once you have one set plotted, plot other features with respect to each other. \n",
    "\n",
    "```Python\n",
    "plt.scatter(f1,f2)\n",
    "```\n"
   ]
  },
  {
   "cell_type": "code",
   "execution_count": 20,
   "id": "sound-blade",
   "metadata": {},
   "outputs": [
    {
     "data": {
      "image/png": "[encoded data removed]",
      "text/plain": [
       "<Figure size 432x288 with 1 Axes>"
      ]
     },
     "metadata": {
      "needs_background": "light"
     },
     "output_type": "display_data"
    }
   ],
   "source": [
    "x = A[\"Feature_1\"]\n",
    "y = A[\"Feature_2\"]\n",
    "plt.scatter(x,y)\n",
    "plt.xlabel(\"Feature 1\")\n",
    "plt.ylabel(\"Feature 2\")\n",
    "plt.show()"
   ]
  },
  {
   "cell_type": "code",
   "execution_count": 21,
   "id": "crazy-banks",
   "metadata": {},
   "outputs": [
    {
     "data": {
      "image/png": "[encoded data removed]",
      "text/plain": [
       "<Figure size 432x288 with 1 Axes>"
      ]
     },
     "metadata": {
      "needs_background": "light"
     },
     "output_type": "display_data"
    }
   ],
   "source": [
    "x = A[\"Feature_2\"]\n",
    "y = A[\"Feature_3\"]\n",
    "plt.scatter(x,y)\n",
    "plt.xlabel(\"Feature 2\")\n",
    "plt.ylabel(\"Feature 3\")\n",
    "plt.show()"
   ]
  },
  {
   "cell_type": "code",
   "execution_count": 22,
   "id": "rolled-wings",
   "metadata": {},
   "outputs": [
    {
     "data": {
      "image/png": "[encoded data removed]",
      "text/plain": [
       "<Figure size 432x288 with 1 Axes>"
      ]
     },
     "metadata": {
      "needs_background": "light"
     },
     "output_type": "display_data"
    }
   ],
   "source": [
    "x = A[\"Feature_3\"]\n",
    "y = A[\"Feature_4\"]\n",
    "plt.scatter(x,y)\n",
    "plt.xlabel(\"Feature 3\")\n",
    "plt.ylabel(\"Feature 4\")\n",
    "plt.show()"
   ]
  },
  {
   "cell_type": "code",
   "execution_count": 23,
   "id": "cellular-madison",
   "metadata": {},
   "outputs": [
    {
     "data": {
      "image/png": "[encoded data removed]",
      "text/plain": [
       "<Figure size 432x288 with 1 Axes>"
      ]
     },
     "metadata": {
      "needs_background": "light"
     },
     "output_type": "display_data"
    }
   ],
   "source": [
    "x = A[\"Feature_1\"]\n",
    "y = A[\"Feature_4\"]\n",
    "plt.scatter(x,y)\n",
    "plt.xlabel(\"Feature 1\")\n",
    "plt.ylabel(\"Feature 4\")\n",
    "plt.show()"
   ]
  },
  {
   "cell_type": "code",
   "execution_count": null,
   "id": "temporal-tutorial",
   "metadata": {},
   "outputs": [],
   "source": []
  },
  {
   "cell_type": "markdown",
   "id": "aging-pilot",
   "metadata": {},
   "source": [
    "---"
   ]
  },
  {
   "cell_type": "markdown",
   "id": "southwest-voltage",
   "metadata": {},
   "source": [
    "### **K Means Integration** (Feb 9th/10th)"
   ]
  },
  {
   "cell_type": "code",
   "execution_count": null,
   "id": "three-elimination",
   "metadata": {},
   "outputs": [],
   "source": []
  },
  {
   "cell_type": "code",
   "execution_count": null,
   "id": "severe-pantyhose",
   "metadata": {},
   "outputs": [],
   "source": []
  },
  {
   "cell_type": "code",
   "execution_count": null,
   "id": "turkish-swiss",
   "metadata": {},
   "outputs": [],
   "source": []
  },
  {
   "cell_type": "markdown",
   "id": "nearby-brave",
   "metadata": {},
   "source": [
    "### **KNN Integration**"
   ]
  },
  {
   "cell_type": "code",
   "execution_count": null,
   "id": "destroyed-incidence",
   "metadata": {},
   "outputs": [],
   "source": []
  },
  {
   "cell_type": "code",
   "execution_count": null,
   "id": "hungry-robert",
   "metadata": {},
   "outputs": [],
   "source": []
  },
  {
   "cell_type": "code",
   "execution_count": null,
   "id": "regional-postcard",
   "metadata": {},
   "outputs": [],
   "source": []
  },
  {
   "cell_type": "markdown",
   "id": "passive-indication",
   "metadata": {},
   "source": [
    "---\n",
    "### **Compare Results** (Feb 11th/12th)"
   ]
  },
  {
   "cell_type": "code",
   "execution_count": null,
   "id": "vocal-exclusive",
   "metadata": {},
   "outputs": [],
   "source": []
  },
  {
   "cell_type": "code",
   "execution_count": null,
   "id": "international-thailand",
   "metadata": {},
   "outputs": [],
   "source": []
  },
  {
   "cell_type": "code",
   "execution_count": null,
   "id": "african-duplicate",
   "metadata": {},
   "outputs": [],
   "source": []
  },
  {
   "cell_type": "markdown",
   "id": "voluntary-nature",
   "metadata": {},
   "source": [
    "### **Save Data**"
   ]
  },
  {
   "cell_type": "code",
   "execution_count": null,
   "id": "aquatic-cargo",
   "metadata": {},
   "outputs": [],
   "source": []
  },
  {
   "cell_type": "code",
   "execution_count": null,
   "id": "characteristic-surprise",
   "metadata": {},
   "outputs": [],
   "source": []
  },
  {
   "cell_type": "code",
   "execution_count": null,
   "id": "separate-silver",
   "metadata": {},
   "outputs": [],
   "source": []
  }
 ],
 "metadata": {
  "kernelspec": {
   "display_name": "Python 3",
   "language": "python",
   "name": "python3"
  },
  "language_info": {
   "codemirror_mode": {
    "name": "ipython",
    "version": 3
   },
   "file_extension": ".py",
   "mimetype": "text/x-python",
   "name": "python",
   "nbconvert_exporter": "python",
   "pygments_lexer": "ipython3",
   "version": "3.6.9"
  }
 },
 "nbformat": 4,
 "nbformat_minor": 5
}
