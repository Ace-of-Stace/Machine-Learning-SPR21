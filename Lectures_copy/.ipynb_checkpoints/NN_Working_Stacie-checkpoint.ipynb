{
 "cells": [
  {
   "cell_type": "markdown",
   "id": "typical-confirmation",
   "metadata": {},
   "source": [
    "# Forward pass: need weight matrices, an activation function(s), get to a1^3"
   ]
  },
  {
   "cell_type": "code",
   "execution_count": 17,
   "id": "crucial-sitting",
   "metadata": {},
   "outputs": [],
   "source": [
    "import numpy as np"
   ]
  },
  {
   "cell_type": "markdown",
   "id": "rural-elite",
   "metadata": {},
   "source": [
    "## The data:"
   ]
  },
  {
   "cell_type": "code",
   "execution_count": 7,
   "id": "desirable-exchange",
   "metadata": {},
   "outputs": [
    {
     "name": "stdout",
     "output_type": "stream",
     "text": [
      "[0.23 0.42 0.23]\n",
      "1.0\n"
     ]
    }
   ],
   "source": [
    "DATA = np.array([.23, .42, .23, 1])  # Features 1-4 then target, need to break up into features and target\n",
    "#This is from the blue block on the diagram\n",
    "X = DATA[:3] #Features\n",
    "Y = DATA[3] #Target\n",
    "#View the data\n",
    "print(X)\n",
    "print(Y)\n"
   ]
  },
  {
   "cell_type": "markdown",
   "id": "promotional-pilot",
   "metadata": {},
   "source": [
    "# What do we need? We need weight matrices. How? We need 3 weight matrices from the diagram \n",
    "## The number of weight matrices is the number of layers we want the data to be processed through\n",
    "## [3 x 4], [4 x 3], [3 x 1]"
   ]
  },
  {
   "cell_type": "code",
   "execution_count": 18,
   "id": "surrounded-flower",
   "metadata": {},
   "outputs": [],
   "source": [
    "W1 = np.random.rand(3,4)\n",
    "W2 = np. random.rand(4,3)\n",
    "W3 = np.random.rand(3,1)\n",
    "# This is the brain, each of the numbers here is what I want to train for, currently, this is a blank slate brain.\n",
    "#Structures to move data into network"
   ]
  },
  {
   "cell_type": "code",
   "execution_count": 19,
   "id": "social-rachel",
   "metadata": {},
   "outputs": [
    {
     "data": {
      "text/plain": [
       "array([1.34676305])"
      ]
     },
     "execution_count": 19,
     "metadata": {},
     "output_type": "execute_result"
    }
   ],
   "source": [
    "np.dot(np.dot(np.dot(X, W1),W2),W3)"
   ]
  },
  {
   "cell_type": "markdown",
   "id": "satisfactory-least",
   "metadata": {},
   "source": [
    "# This number is a non-activated, untrained weight. Now we need the Cost Function"
   ]
  },
  {
   "cell_type": "code",
   "execution_count": 20,
   "id": "floppy-vermont",
   "metadata": {},
   "outputs": [],
   "source": [
    "#Accepts z value and outputs the a on the diagram, this is the cost function\n",
    "def sigmoid(z):\n",
    "    a = 1 / (1 + np.e**(-z))\n",
    "    return a \n"
   ]
  },
  {
   "cell_type": "code",
   "execution_count": 23,
   "id": "roman-limit",
   "metadata": {},
   "outputs": [],
   "source": [
    "def forward_pass(X, W1, W2, W3):  # allows me to call this back up, need to send data, weight matrices\n",
    "    z1 = np.dot(X, W1) #Feature set dotted with weight matrix\n",
    "    a1 = sigmoid(z1) # multiply by activation function, f1, which is a sigmoid in our example, Could use ReLU here. \n",
    "    \n",
    "    z2 = np.dot(a1, W2) #dot updated layer weights\n",
    "    a2 = sigmoid(z2)  # activation again\n",
    "    \n",
    "    z3 = np.dot(a2, W3)\n",
    "    a3 = sigmoid(z3)  #this is the value of our guess\n",
    "    \n",
    "    return a3"
   ]
  },
  {
   "cell_type": "code",
   "execution_count": 22,
   "id": "vertical-section",
   "metadata": {},
   "outputs": [],
   "source": [
    "guess = forward_pass(X, W1, W2, W3)"
   ]
  },
  {
   "cell_type": "code",
   "execution_count": null,
   "id": "guilty-support",
   "metadata": {},
   "outputs": [],
   "source": [
    "Y - guess # Forward pass is how we use a neural network"
   ]
  },
  {
   "cell_type": "code",
   "execution_count": null,
   "id": "recognized-madrid",
   "metadata": {},
   "outputs": [],
   "source": []
  },
  {
   "cell_type": "code",
   "execution_count": null,
   "id": "western-flashing",
   "metadata": {},
   "outputs": [],
   "source": []
  }
 ],
 "metadata": {
  "kernelspec": {
   "display_name": "Python 3",
   "language": "python",
   "name": "python3"
  },
  "language_info": {
   "codemirror_mode": {
    "name": "ipython",
    "version": 3
   },
   "file_extension": ".py",
   "mimetype": "text/x-python",
   "name": "python",
   "nbconvert_exporter": "python",
   "pygments_lexer": "ipython3",
   "version": "3.6.9"
  }
 },
 "nbformat": 4,
 "nbformat_minor": 5
}
