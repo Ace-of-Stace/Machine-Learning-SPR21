{
 "cells": [
  {
   "cell_type": "markdown",
   "id": "simplified-resident",
   "metadata": {},
   "source": [
    "# **Solar Images and Convolutional Neural Networks**\n",
    "---"
   ]
  },
  {
   "cell_type": "markdown",
   "id": "technological-northeast",
   "metadata": {},
   "source": [
    "## **Project Overview**"
   ]
  },
  {
   "cell_type": "markdown",
   "id": "mexican-variation",
   "metadata": {},
   "source": [
    "Solar physics heavily relies on analysis of solar image data. These images and the process of accessing them can be challenging, and getting them machine learning ready can be a huge barrier to using them in machine learning applications. If a pipeline from the solar databases to trainable data was created, it could be used with more agency in the solar physics space. For this project we will be standing up a solar data image pipeline, that will allow us to train a network on different wavelength data. We will accomplish this by breaking into two sub-teams, and tackling the pipeline and the network. Finally, when the pipeline is established, we will use a custom CNN to classify wavelengths and work to extend this result to composite images as well. _(As with the last project, we will also contribute to the other sub-team through discussion posts)_"
   ]
  },
  {
   "cell_type": "markdown",
   "id": "measured-correction",
   "metadata": {},
   "source": [
    " <p style=\"text-align: center;\"> <img src= sun.jpg width=300 alt='[img: https://sdo.gsfc.nasa.gov/data/]'/>  <br />  Image source: https://sdo.gsfc.nasa.gov/data/</p>\n"
   ]
  },
  {
   "cell_type": "markdown",
   "id": "parliamentary-interview",
   "metadata": {},
   "source": [
    "### **Project Goals:** \n",
    "**Data:** Create a pipeline using python to convert solar data into machine learning data. This training data should initially focus on our machine learning task, but additional considerations about the data can be included for future projects.\n",
    "\n",
    "**Machine Learning:** Use a convolutional neural network (CNN) to predict the wavelength of the image. Then given a composite of 3 wavelengths, can the network determine what the wavelengths are."
   ]
  },
  {
   "cell_type": "markdown",
   "id": "saved-nothing",
   "metadata": {},
   "source": [
    "### **Project Objectives**\n",
    "- Use Python and our lab to access solar data.\n",
    "- Determine what data our machine learning pipeline should focus on.\n",
    "- Collect and curate the necessary data _(training and testing, features and targets)_ to prove the concept of our machine learning task. \n",
    "- Train a CNN to predict wavelengths given an image. Use the trained weights to find the spectrum of a composite image.  \n",
    "- Develop a legacy project scope outlining three future goals for other research teams."
   ]
  },
  {
   "cell_type": "markdown",
   "id": "surface-depth",
   "metadata": {},
   "source": [
    "### **TimeLine**\n",
    "\n",
    "| Monday       | Tuesday     | Wednesday   | Thursday  | Friday |\n",
    "| :------------- | :---------- | :----------- | :----------- | :----------- |\n",
    "|  |     |   |  | April 9 <br /> Introduce the Project and <br />Sunpy Introduction| \n",
    "| April 12 <br /> Data Augmentation <br /> **Solar Image Post Due**   |  Office Hour| April 14 <br />  Bounding Box Data | Office Hour | April 16 <br /> _Pipeline Team Presents_   | \n",
    "| April 19 <br /> The Composite Problem  <br /> **Network Architecture Post Due**  | Office Hour | April 21 <br />Explore Convolution Layers | Office Hour | April 23 <br /> _Network Team Presents_ <br /> Train the network (over the weekend) | \n",
    "| April 26 <br /> Project Reflection <br /> **Reflection Post Due**   "
   ]
  },
  {
   "cell_type": "markdown",
   "id": "magnetic-living",
   "metadata": {},
   "source": [
    "### **Deliverables**\n",
    "- Each team member must post on the **Solar Image Post**  and the **Network Architecture Post** . These are due Monday night by 11:59 pm on D2L (April 12 (**Solar**)) and (April 19 (**Network**)). Below you will find more information on the posts (this info is also on D2L in the discussions). (20 points)\n",
    "- Each team member must present with their team on the day that their team presents. **( Pipeline team (April 16) and Network team (April 23) )** (10 points)\n",
    "- Each team member must write up a one-page, project reflection and post it in the discussion forum **(April 26)**. Below you will find more information on the reflection (10 points)"
   ]
  },
  {
   "cell_type": "markdown",
   "id": "greek-telescope",
   "metadata": {},
   "source": [
    "### **Sub-Teams:**\n",
    "\n",
    "_Pipeline Team_ (Presentation date April 16th)\n",
    "- Joe\n",
    "- Christian\n",
    "- Eddie\n",
    "- Anton\n",
    "\n",
    "_Network  Team_ (Presentation date April 23)\n",
    "- Cassidy\n",
    "- Stacie\n",
    "- Joanna\n",
    "- Jack"
   ]
  },
  {
   "cell_type": "markdown",
   "id": "colonial-creativity",
   "metadata": {},
   "source": [
    "---\n",
    "## **Sub-Teams Project Overview**\n",
    "\n",
    "### **Pipeline Sub-team**\n",
    "The focus of the pipeline team is to use Sunpy to collect the needed solar data, as well as curate a data set of training and testing data. This team will also identify the wavelengths that we will study, make any choices on data augmentation, and finally they will help to build the composite images that we will use in the final phase of testing. Pipeline will need to work with Network to connect the network to the training and testing data. They will also need to collaborate with the global team on how to predict the composite image. \n",
    "\n",
    "**Presentation target:**  What wavelengths are we training for and how many images have been collected for training and testing? Where is the data located and what are the sizes of the images? Where is the classification information? What will the first layer of the CNN need to be? **How was the composite image made?** What do some example images look like, and are there any issues that we should be aware of? What data augmentation was used? Is the data set-up for any additional tasks? \n",
    "\n",
    "### **Network Sub-team**\n",
    "The network team will help to build and deploy a CNN that can be used to classify the wavelengths identified by the Pipeline team. This team will use known architectures to develop the CNN, and will help attach the data pipeline to the network for training. Once the network is trained, Network will work in collaboration with Pipeline to create a novel, multi-channel image that the trained network can try to determine the spectrum of. \n",
    "\n",
    "**Presentation target:** What is the structure of the network and why? What will the output of the network be? **How will be predict the composite image?** How long will it take to train the network? How will the weights be saved, and what size should we expect the entire model to be? When loaded into the GPU's, how much ram is needed? "
   ]
  },
  {
   "cell_type": "markdown",
   "id": "handmade-dispatch",
   "metadata": {},
   "source": [
    "---\n",
    "## **Discussion Posts Overview**\n",
    "\n",
    "### **Solar Image Post**\n",
    "\n",
    "For this discussion post include one image of the sun and the code used to download the image. Make sure that the image is of a wavelength that has not yet been posted. You don't need to include all the code here, just the fido search line with the attributes that you used. In addition to an image of the entire disk, post a viewed in image of a piece of the sun as well as the code used to isolate that region. _(Should be two images, and two blocks of code)_\n",
    "\n",
    "### **Network Architecture Post Due**\n",
    "\n",
    "For this discussion, post the keras summary for an architecture for a CNN that could be used for the general network. Also include information on where the structure for the network came from (source paper or reference). In addition to the summary, include information for the optimizer, batch size and the epochs, as well as any notes that you would like the network team (or the global team) to note. "
   ]
  },
  {
   "cell_type": "markdown",
   "id": "unavailable-browse",
   "metadata": {},
   "source": [
    "---\n",
    "## **Reflection Overview**\n",
    "\n",
    "For this reflection we are looking backwards as well as forward. We want to use what we have learned through the scope of this project to build a runway for additional exploration in the solar image analysis space.\n",
    "\n",
    "Questions:\n",
    "- What challenges were there working with this data? What are some techniques used to help overcome these challenges?\n",
    "- Was the network successful with the classification task? If yes, could it be better? If no, can it be salvaged?\n",
    "- What was the conclusion of predicting on composite data? \n",
    "- What was one new topic, idea or tool that you feel better equip to utilize? What was one new topic, idea or tool that you would like to explore more?\n",
    "- Propose three additional questions that we could investigate using the solar data. Would we need more data?\n",
    "- Any additional thoughts about the project or conclusion."
   ]
  },
  {
   "cell_type": "code",
   "execution_count": null,
   "id": "sized-circular",
   "metadata": {},
   "outputs": [],
   "source": []
  }
 ],
 "metadata": {
  "kernelspec": {
   "display_name": "Python 3",
   "language": "python",
   "name": "python3"
  },
  "language_info": {
   "codemirror_mode": {
    "name": "ipython",
    "version": 3
   },
   "file_extension": ".py",
   "mimetype": "text/x-python",
   "name": "python",
   "nbconvert_exporter": "python",
   "pygments_lexer": "ipython3",
   "version": "3.6.9"
  }
 },
 "nbformat": 4,
 "nbformat_minor": 5
}
