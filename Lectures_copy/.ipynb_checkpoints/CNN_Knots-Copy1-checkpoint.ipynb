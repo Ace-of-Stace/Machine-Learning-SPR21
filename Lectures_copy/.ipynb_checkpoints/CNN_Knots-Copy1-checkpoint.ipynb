{
 "cells": [
  {
   "cell_type": "code",
   "execution_count": 1,
   "id": "wicked-moldova",
   "metadata": {},
   "outputs": [
    {
     "name": "stdout",
     "output_type": "stream",
     "text": [
      "Tensorflow version: 2.1.0\n",
      "Pandas version: 1.1.5\n",
      "Keras version: 2.2.4-tf\n",
      "Pillow version: 8.1.0 \n",
      "\n",
      "GPU's: [PhysicalDevice(name='/physical_device:GPU:0', device_type='GPU'), PhysicalDevice(name='/physical_device:GPU:1', device_type='GPU')]\n"
     ]
    }
   ],
   "source": [
    "# Import tensorflow.\n",
    "import tensorflow as tf\n",
    "\n",
    "# PIL (Pillow) for working with images.\n",
    "import PIL\n",
    "from PIL import Image , ImageOps\n",
    "\n",
    "# Used for globbing up directories.\n",
    "import glob\n",
    "\n",
    "# The Data Tools \n",
    "import pandas as pd\n",
    "import numpy as np\n",
    "import matplotlib.pyplot as plt\n",
    "\n",
    "# Import the Keras tools.\n",
    "from tensorflow import keras\n",
    "\n",
    "# Network type.\n",
    "from tensorflow.keras.models import Sequential\n",
    "\n",
    "# Layer information.\n",
    "from tensorflow.keras.layers import Conv2D, MaxPooling2D, Flatten, Dense, Dropout #This right here is the convolutional NN\n",
    "\n",
    "# For editing images. \n",
    "from tensorflow.keras.preprocessing.image import ImageDataGenerator #image processor that keras has built in\n",
    "# from tensorflow.keras.utils import to_categorical\n",
    "\n",
    "print(\"Tensorflow version:\", tf.__version__)\n",
    "print(\"Pandas version:\", pd.__version__)\n",
    "print(\"Keras version:\", keras.__version__)\n",
    "print(\"Pillow version:\",PIL.__version__,\"\\n\")\n",
    "\n",
    "physical_devices = tf.config.list_physical_devices('GPU') \n",
    "print(\"GPU's:\",physical_devices)\n",
    "for gpu_instance in physical_devices: \n",
    "    tf.config.experimental.set_memory_growth(gpu_instance, True)"
   ]
  },
  {
   "cell_type": "code",
   "execution_count": 2,
   "id": "surprising-clinton",
   "metadata": {},
   "outputs": [],
   "source": [
    "src_path_train = \"../Data/recreation/10Knots/Figure-8 Loop/DiffuseLight\" #good data handling, always keep data in same place so can always find the path\n",
    "# The src command initializes Keras’ ImageDataGenerator class"
   ]
  },
  {
   "cell_type": "code",
   "execution_count": 3,
   "id": "tribal-reporter",
   "metadata": {},
   "outputs": [],
   "source": [
    "train_datagen = ImageDataGenerator( #This is creating a training data GENERATOR, stnd up object with our settings and tell keras that each image you see, apply these things to it.\n",
    "    #Maybe you have keras look at 5 or 10 images that it will use to train, instead of hundreds; trying to design this so we get enough resolution to capture gesture\n",
    "    #By changing the below values, you get different resolutuion, these numbers are a range   \n",
    "    rescale=1 / 255.0,\n",
    "        rotation_range=20,\n",
    "        zoom_range=0.05,\n",
    "        width_shift_range=0.05,\n",
    "        height_shift_range=0.05,\n",
    "        shear_range=0.05,\n",
    "        horizontal_flip=True, #be able to see it upside down\n",
    "        fill_mode=\"nearest\",\n",
    "        validation_split=0.20) # 20% validation data set\n",
    "\n",
    "test_datagen = ImageDataGenerator(rescale=1 / 255.0)\n",
    "#This above is changing the images so we can try and train on them"
   ]
  },
  {
   "cell_type": "code",
   "execution_count": 4,
   "id": "ordinary-upper",
   "metadata": {},
   "outputs": [
    {
     "name": "stdout",
     "output_type": "stream",
     "text": [
      "Found 40 images belonging to 3 classes.\n"
     ]
    }
   ],
   "source": [
    "batch_size = 8 #Batch size is going to limited by GPUs for our project. \n",
    "train_generator = train_datagen.flow_from_directory( #This is the generator; flow from directory means that it takes directly from directory, which allows for RAM savings.\n",
    "    #Keras will only take what it needs, and data is already categorized (make sure you categorize them!)\n",
    "    directory=src_path_train,\n",
    "    target_size=(300, 300),\n",
    "    color_mode=\"rgb\", #color images used here, but can also use grey scale\n",
    "    batch_size=batch_size,\n",
    "    class_mode=\"categorical\",\n",
    "    subset='training',\n",
    "    shuffle=True,\n",
    "    seed=42\n",
    ")\n",
    "#The thesis of this notebook was to see if a knot was tied properly. "
   ]
  },
  {
   "cell_type": "code",
   "execution_count": 5,
   "id": "broad-combat",
   "metadata": {},
   "outputs": [
    {
     "data": {
      "text/plain": [
       "keras_preprocessing.image.directory_iterator.DirectoryIterator"
      ]
     },
     "execution_count": 5,
     "metadata": {},
     "output_type": "execute_result"
    }
   ],
   "source": [
    "type(train_generator) # memory address of where this will be"
   ]
  },
  {
   "cell_type": "code",
   "execution_count": 6,
   "id": "pending-remedy",
   "metadata": {},
   "outputs": [],
   "source": [
    "#below is the network used; focus on structure here\n",
    "#The way CNN works, series of convolutional steps that created layers that work as a filter\n",
    "model = Sequential()\n",
    "model.add(Conv2D(16,kernel_size=(5,5),activation='relu',input_shape=(300, 300, 3))) #input shape is a 300 x 300 x 3 pixels x 16 images which is HUGE\n",
    "model.add(MaxPooling2D(pool_size=(2, 2))) \n",
    "#This helps to make the size of data more tenable; it finds the largest values (differences), to make filters smaller to manage them\n",
    "# we might be losing resolution when pool\n",
    "#CONVOLUTION MAKES FILTERS, POOLING MAKES THEM SMALLER\n",
    "model.add(Conv2D(16,kernel_size=(5,5),activation='relu')) # 5 x 5 kernel\n",
    "model.add(MaxPooling2D(pool_size=(2, 2)))\n",
    "model.add(Conv2D(16,kernel_size=(3,3),activation='relu'))\n",
    "model.add(MaxPooling2D(pool_size=(2, 2)))\n",
    "model.add(Conv2D(16,kernel_size=(3,3),activation='relu'))\n",
    "model.add(MaxPooling2D(pool_size=(2, 2)))\n",
    "\n",
    "model.add(Flatten())\n",
    "\n",
    "model.add(Dense(100, activation='relu')) #push flattened layers into dense NN\n",
    "model.add(Dropout(.5))\n",
    "model.add(Dense(20, activation='relu'))\n",
    "model.add(Dense(3, activation='softmax'))\n",
    "          \n",
    "model.compile(loss=\"categorical_crossentropy\",optimizer=\"adam\",metrics=['accuracy']) #classified info comes out, ie what kind of knot is it?"
   ]
  },
  {
   "cell_type": "code",
   "execution_count": null,
   "id": "growing-sense",
   "metadata": {},
   "outputs": [
    {
     "name": "stdout",
     "output_type": "stream",
     "text": [
      "WARNING:tensorflow:sample_weight modes were coerced from\n",
      "  ...\n",
      "    to  \n",
      "  ['...']\n",
      "Train for 5 steps\n",
      "Epoch 1/50\n",
      "5/5 [==============================] - 12s 2s/step - loss: 1.1066 - accuracy: 0.4000\n",
      "Epoch 2/50\n",
      "5/5 [==============================] - 11s 2s/step - loss: 1.0939 - accuracy: 0.4000\n",
      "Epoch 3/50\n",
      "5/5 [==============================] - 11s 2s/step - loss: 1.0974 - accuracy: 0.3000\n",
      "Epoch 4/50\n",
      "5/5 [==============================] - 11s 2s/step - loss: 1.1134 - accuracy: 0.2250\n",
      "Epoch 5/50\n",
      "5/5 [==============================] - 11s 2s/step - loss: 1.1029 - accuracy: 0.3000\n",
      "Epoch 6/50\n",
      "5/5 [==============================] - 11s 2s/step - loss: 1.1017 - accuracy: 0.2500\n",
      "Epoch 7/50\n",
      "5/5 [==============================] - 11s 2s/step - loss: 1.0988 - accuracy: 0.3500\n",
      "Epoch 8/50\n",
      "1/5 [=====>........................] - ETA: 9s - loss: 1.1005 - accuracy: 0.2500"
     ]
    }
   ],
   "source": [
    "model.fit(train_generator, steps_per_epoch = train_generator.n//train_generator.batch_size, epochs=50)"
   ]
  },
  {
   "cell_type": "code",
   "execution_count": null,
   "id": "latter-limit",
   "metadata": {},
   "outputs": [],
   "source": []
  }
 ],
 "metadata": {
  "kernelspec": {
   "display_name": "Python 3",
   "language": "python",
   "name": "python3"
  },
  "language_info": {
   "codemirror_mode": {
    "name": "ipython",
    "version": 3
   },
   "file_extension": ".py",
   "mimetype": "text/x-python",
   "name": "python",
   "nbconvert_exporter": "python",
   "pygments_lexer": "ipython3",
   "version": "3.6.9"
  }
 },
 "nbformat": 4,
 "nbformat_minor": 5
}
