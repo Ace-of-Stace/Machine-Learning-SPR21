{
 "cells": [
  {
   "cell_type": "markdown",
   "id": "signed-vegetation",
   "metadata": {},
   "source": [
    "## Grasping Data Set Pipeline v1.0"
   ]
  },
  {
   "cell_type": "code",
   "execution_count": 1,
   "id": "genetic-jerusalem",
   "metadata": {},
   "outputs": [
    {
     "name": "stdout",
     "output_type": "stream",
     "text": [
      "1.1.5\n"
     ]
    }
   ],
   "source": [
    "import pandas as pd #Alias for pandas is pd\n",
    "print(pd.__version__)\n",
    "import numpy as np\n",
    "import matplotlib.pyplot as plt"
   ]
  },
  {
   "cell_type": "code",
   "execution_count": 2,
   "id": "transparent-superintendent",
   "metadata": {},
   "outputs": [],
   "source": [
    "# Read in csv data. \n",
    "A = pd.read_csv(\"Data/healthcare/shadow_robot_dataset.csv\")"
   ]
  },
  {
   "cell_type": "code",
   "execution_count": 3,
   "id": "thrown-reach",
   "metadata": {},
   "outputs": [
    {
     "data": {
      "text/plain": [
       "pandas.core.frame.DataFrame"
      ]
     },
     "execution_count": 3,
     "metadata": {},
     "output_type": "execute_result"
    }
   ],
   "source": [
    "type(A)"
   ]
  },
  {
   "cell_type": "code",
   "execution_count": 4,
   "id": "tough-kingdom",
   "metadata": {},
   "outputs": [
    {
     "name": "stdout",
     "output_type": "stream",
     "text": [
      "                        experiment_number   robustness   H1_F1J2_pos   \\\n",
      "0       2ccc5f2c534f4be2b329eada685ce311     85.758903       0.118209   \n",
      "1       2ccc5f2c534f4be2b329eada685ce311     85.758903       0.152945   \n",
      "2       2ccc5f2c534f4be2b329eada685ce311     85.758903       0.162168   \n",
      "3       2ccc5f2c534f4be2b329eada685ce311     85.758903       0.137684   \n",
      "4       2ccc5f2c534f4be2b329eada685ce311     85.758903       0.161747   \n",
      "...                                   ...          ...            ...   \n",
      "992636  2ce8d77087094b11a8596c53f1c2df15     96.585662       0.130388   \n",
      "992637  2ce8d77087094b11a8596c53f1c2df15     96.585662       0.128054   \n",
      "992638  2ce8d77087094b11a8596c53f1c2df15     96.585662       0.130326   \n",
      "992639  2ce8d77087094b11a8596c53f1c2df15     96.585662       0.149129   \n",
      "992640  2ce8d77087094b11a8596c53f1c2df15     96.585662       0.109327   \n",
      "\n",
      "         H1_F1J2_vel    H1_F1J2_eff    H1_F1J3_pos    H1_F1J3_vel   \\\n",
      "0            6.838743       1.454113       0.302276     -18.738705   \n",
      "1            5.997176       1.098305       0.308893     -14.173090   \n",
      "2            5.302321       0.999142       0.314331     -13.093510   \n",
      "3            6.504519       1.256002       0.304333     -16.948796   \n",
      "4            4.899113       0.999313       0.315815     -13.700695   \n",
      "...               ...            ...            ...            ...   \n",
      "992636       7.184142       1.843887       0.253100     -19.537161   \n",
      "992637       7.520762       1.870689       0.251921     -20.113798   \n",
      "992638       7.749944       1.850211       0.251145     -21.228001   \n",
      "992639       6.136092       1.646002       0.259715     -17.988816   \n",
      "992640      -7.797566       0.000000       0.256289      19.186920   \n",
      "\n",
      "         H1_F1J3_eff    H1_F1J1_pos    H1_F1J1_vel   ...   H1_F2J1_pos   \\\n",
      "0            0.000000      -0.032352       0.127232  ...       0.109246   \n",
      "1            0.000000      -0.027381       0.273711  ...       0.105656   \n",
      "2            0.000000      -0.025808       0.184343  ...       0.103620   \n",
      "3            0.000000      -0.027398       0.121100  ...       0.106332   \n",
      "4            0.000000      -0.025698       0.079876  ...       0.104104   \n",
      "...               ...            ...            ...  ...            ...   \n",
      "992636       0.000000      -0.027824       0.050854  ...      -0.064553   \n",
      "992637       0.000000      -0.028146       0.034234  ...      -0.064192   \n",
      "992638       0.000000      -0.027532      -0.020924  ...      -0.064897   \n",
      "992639       0.000000      -0.024531       0.080302  ...      -0.067001   \n",
      "992640       0.761764      -0.021199       0.187938  ...      -0.063383   \n",
      "\n",
      "         H1_F2J1_vel    H1_F2J1_eff    H1_F2J3_pos    H1_F2J3_vel   \\\n",
      "0            0.042166       0.041517       0.439459     -13.975613   \n",
      "1           -0.130178       0.075700       0.446421     -17.618561   \n",
      "2           -0.162815       0.095730       0.439690     -13.031110   \n",
      "3           -0.186364       0.068382       0.445833     -11.763374   \n",
      "4           -0.216307       0.090358       0.438578     -15.347191   \n",
      "...               ...            ...            ...            ...   \n",
      "992636      -0.044033       0.007415       0.373140      -4.915019   \n",
      "992637      -0.006108       0.004178       0.372934      -4.841139   \n",
      "992638       0.035043       0.011649       0.371388      -5.145467   \n",
      "992639       0.041980       0.032763       0.371682      -5.562895   \n",
      "992640       0.079873      -0.003048       0.379547       5.288929   \n",
      "\n",
      "         H1_F2J3_eff    H1_F2J2_pos    H1_F2J2_vel    H1_F2J2_eff   \\\n",
      "0            0.000000       0.177114       5.456443       1.493776   \n",
      "1            0.000000       0.176817       5.130892       1.493497   \n",
      "2            0.000000       0.174343       5.650662       1.523433   \n",
      "3            0.000000       0.180723       5.267410       1.455800   \n",
      "4            0.000000       0.164628       6.339569       1.627478   \n",
      "...               ...            ...            ...            ...   \n",
      "992636       0.000000       0.209603       2.067703       0.417153   \n",
      "992637       0.000000       0.207827       1.989526       0.434158   \n",
      "992638       0.000000       0.205514       2.087309       0.458245   \n",
      "992639       0.000000       0.205412       2.323993       0.461640   \n",
      "992640       0.129144       0.221894      -1.628677       0.000000   \n",
      "\n",
      "         measurement_number  \n",
      "0                         0  \n",
      "1                         1  \n",
      "2                         2  \n",
      "3                         3  \n",
      "4                         4  \n",
      "...                     ...  \n",
      "992636                   25  \n",
      "992637                   26  \n",
      "992638                   27  \n",
      "992639                   28  \n",
      "992640                   29  \n",
      "\n",
      "[992641 rows x 30 columns]\n"
     ]
    }
   ],
   "source": [
    "print(A)"
   ]
  },
  {
   "cell_type": "code",
   "execution_count": 5,
   "id": "similar-hawaii",
   "metadata": {},
   "outputs": [
    {
     "name": "stdout",
     "output_type": "stream",
     "text": [
      "Index(['experiment_number', ' robustness', ' H1_F1J2_pos ', ' H1_F1J2_vel ',\n",
      "       ' H1_F1J2_eff ', ' H1_F1J3_pos ', ' H1_F1J3_vel ', ' H1_F1J3_eff ',\n",
      "       ' H1_F1J1_pos ', ' H1_F1J1_vel ', ' H1_F1J1_eff ', ' H1_F3J1_pos ',\n",
      "       ' H1_F3J1_vel ', ' H1_F3J1_eff ', ' H1_F3J2_pos ', ' H1_F3J2_vel ',\n",
      "       ' H1_F3J2_eff ', ' H1_F3J3_pos ', ' H1_F3J3_vel ', ' H1_F3J3_eff ',\n",
      "       ' H1_F2J1_pos ', ' H1_F2J1_vel ', ' H1_F2J1_eff ', ' H1_F2J3_pos ',\n",
      "       ' H1_F2J3_vel ', ' H1_F2J3_eff ', ' H1_F2J2_pos ', ' H1_F2J2_vel ',\n",
      "       ' H1_F2J2_eff ', ' measurement_number'],\n",
      "      dtype='object')\n"
     ]
    }
   ],
   "source": [
    "print(A.keys()) #Goes to A dataframe and finds the keys\n",
    "# H1 = Hand 1 (there's only one hand), F1 = finger 1 (3 fingers/hand), J1 = joint 1 (3 joints/finger)\n",
    "# pos = position, vel = velocity, eff = effort (measurements of joints)"
   ]
  },
  {
   "cell_type": "code",
   "execution_count": null,
   "id": "musical-wesley",
   "metadata": {},
   "outputs": [],
   "source": []
  },
  {
   "cell_type": "code",
   "execution_count": 6,
   "id": "announced-discount",
   "metadata": {},
   "outputs": [
    {
     "name": "stdout",
     "output_type": "stream",
     "text": [
      "<class 'numpy.ndarray'>\n"
     ]
    }
   ],
   "source": [
    "A_array = np.array(A) # Convert from pandas dataframe to a numpy array.\n",
    "print(type(A_array))"
   ]
  },
  {
   "cell_type": "code",
   "execution_count": 7,
   "id": "equipped-diameter",
   "metadata": {},
   "outputs": [
    {
     "name": "stdout",
     "output_type": "stream",
     "text": [
      "[['2ccc5f2c534f4be2b329eada685ce311 ' 85.7589026002 0.118208695877 ...\n",
      "  5.45644296211 1.4937763784399998 0]\n",
      " ['2ccc5f2c534f4be2b329eada685ce311 ' 85.7589026002 0.152945152408 ...\n",
      "  5.13089167258 1.49349713354 1]\n",
      " ['2ccc5f2c534f4be2b329eada685ce311 ' 85.7589026002 0.162167584201 ...\n",
      "  5.6506615847 1.52343321123 2]\n",
      " ...\n",
      " ['2ce8d77087094b11a8596c53f1c2df15 ' 96.5856619465 0.1303261178 ...\n",
      "  2.08730910544 0.458244985459 27]\n",
      " ['2ce8d77087094b11a8596c53f1c2df15 ' 96.5856619465 0.149129038923 ...\n",
      "  2.32399285461 0.461639922779 28]\n",
      " ['2ce8d77087094b11a8596c53f1c2df15 ' 96.5856619465 0.109327328118 ...\n",
      "  -1.62867732689 0.0 29]]\n",
      "(992641, 30)\n"
     ]
    }
   ],
   "source": [
    "print(A_array)\n",
    "print(np.shape(A_array))"
   ]
  },
  {
   "cell_type": "code",
   "execution_count": null,
   "id": "judicial-despite",
   "metadata": {},
   "outputs": [],
   "source": []
  }
 ],
 "metadata": {
  "kernelspec": {
   "display_name": "Python 3",
   "language": "python",
   "name": "python3"
  },
  "language_info": {
   "codemirror_mode": {
    "name": "ipython",
    "version": 3
   },
   "file_extension": ".py",
   "mimetype": "text/x-python",
   "name": "python",
   "nbconvert_exporter": "python",
   "pygments_lexer": "ipython3",
   "version": "3.6.9"
  }
 },
 "nbformat": 4,
 "nbformat_minor": 5
}
