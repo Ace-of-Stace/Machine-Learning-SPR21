{
 "cells": [
  {
   "cell_type": "markdown",
   "id": "central-resident",
   "metadata": {},
   "source": [
    "# Forward pass: need weight matrices, an activation function(s), get to a1^3"
   ]
  },
  {
   "cell_type": "code",
   "execution_count": null,
   "id": "touched-obligation",
   "metadata": {},
   "outputs": [],
   "source": [
    "import numpy as np"
   ]
  },
  {
   "cell_type": "markdown",
   "id": "sophisticated-reform",
   "metadata": {},
   "source": [
    "## The data:"
   ]
  },
  {
   "cell_type": "code",
   "execution_count": null,
   "id": "complex-triple",
   "metadata": {},
   "outputs": [],
   "source": [
    "DATA = np.array([.23, .42, .23, 1])  # Features 1-4 then target, need to break up into features and target\n",
    "#This is from the blue block on the diagram\n",
    "X = DATA[:3] #Features\n",
    "Y = DATA[3] #Target\n",
    "#View the data\n",
    "print(X)\n",
    "print(Y)\n"
   ]
  },
  {
   "cell_type": "markdown",
   "id": "bottom-commission",
   "metadata": {},
   "source": [
    "# What do we need? We need weight matrices. How? We need 3 weight matrices from the diagram \n",
    "## The number of weight matrices is the number of layers we want the data to be processed through\n",
    "## [3 x 4], [4 x 3], [3 x 1]"
   ]
  },
  {
   "cell_type": "code",
   "execution_count": null,
   "id": "expensive-affiliation",
   "metadata": {},
   "outputs": [],
   "source": [
    "W1 = np.random.rand(3,4)\n",
    "W2 = np. random.rand(4,3)\n",
    "W3 = np.random.rand(3,1)\n",
    "# This is the brain, each of the numbers here is what I want to train for, currently, this is a blank slate brain.\n",
    "#Structures to move data into network"
   ]
  },
  {
   "cell_type": "code",
   "execution_count": null,
   "id": "hungry-leeds",
   "metadata": {},
   "outputs": [],
   "source": [
    "np.dot(np.dot(np.dot(X, W1),W2),W3)"
   ]
  },
  {
   "cell_type": "markdown",
   "id": "reduced-steal",
   "metadata": {},
   "source": [
    "# This number is a non-activated, untrained weight. Now we need the Cost Function"
   ]
  },
  {
   "cell_type": "code",
   "execution_count": null,
   "id": "occupational-attribute",
   "metadata": {},
   "outputs": [],
   "source": [
    "#Accepts z value and outputs the a on the diagram, this is the cost function\n",
    "def sigmoid(z):\n",
    "    a = 1 / (1 + np.e**(-z))\n",
    "    return a \n"
   ]
  },
  {
   "cell_type": "code",
   "execution_count": null,
   "id": "apparent-monitoring",
   "metadata": {},
   "outputs": [],
   "source": [
    "def forward_pass(X, W1, W2, W3):  # allows me to call this back up, need to send data, weight matrices\n",
    "    z1 = np.dot(X, W1) #Feature set dotted with weight matrix\n",
    "    a1 = sigmoid(z1) # multiply by activation function, f1, which is a sigmoid in our example, Could use ReLU here. \n",
    "    \n",
    "    z2 = np.dot(a1, W2) #dot updated layer weights\n",
    "    a2 = sigmoid(z2)  # activation again\n",
    "    \n",
    "    z3 = np.dot(a2, W3)\n",
    "    a3 = sigmoid(z3)  #this is the value of our guess\n",
    "    \n",
    "    return a3"
   ]
  },
  {
   "cell_type": "code",
   "execution_count": null,
   "id": "creative-intermediate",
   "metadata": {},
   "outputs": [],
   "source": [
    "guess = forward_pass(X, W1, W2, W3)"
   ]
  },
  {
   "cell_type": "code",
   "execution_count": null,
   "id": "initial-fisher",
   "metadata": {},
   "outputs": [],
   "source": [
    "Y - guess # Forward pass is how we use a neural network"
   ]
  },
  {
   "cell_type": "code",
   "execution_count": null,
   "id": "postal-confirmation",
   "metadata": {},
   "outputs": [],
   "source": []
  },
  {
   "cell_type": "code",
   "execution_count": null,
   "id": "deluxe-central",
   "metadata": {},
   "outputs": [],
   "source": []
  }
 ],
 "metadata": {
  "kernelspec": {
   "display_name": "Python 3",
   "language": "python",
   "name": "python3"
  },
  "language_info": {
   "codemirror_mode": {
    "name": "ipython",
    "version": 3
   },
   "file_extension": ".py",
   "mimetype": "text/x-python",
   "name": "python",
   "nbconvert_exporter": "python",
   "pygments_lexer": "ipython3",
   "version": "3.6.9"
  }
 },
 "nbformat": 4,
 "nbformat_minor": 5
}
