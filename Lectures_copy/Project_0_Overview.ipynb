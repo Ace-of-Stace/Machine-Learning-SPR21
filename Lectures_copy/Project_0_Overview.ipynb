{
 "cells": [
  {
   "cell_type": "markdown",
   "id": "cutting-packaging",
   "metadata": {},
   "source": [
    "# **Project 0:** Random Garden"
   ]
  },
  {
   "cell_type": "markdown",
   "id": "civil-objective",
   "metadata": {},
   "source": [
    " <font size=1> Disclaimer: The following project is made from a mix of synthetic and real data and the story is fictional. Any similarity to anyone living or dead, or any historical event is coincidence. If the coincidence is particularly strong, investigate it. This may be evidence that we are in a simulation. </font>\n",
    " \n",
    "---"
   ]
  },
  {
   "cell_type": "markdown",
   "id": "flying-chemical",
   "metadata": {},
   "source": [
    "**Background:** The data found at `/Data/biology/Garden_Data.csv` is a collection of flower data that is thought to be generated from the original Iris Data set. The collections of values in the data represent the features from measurements of two parts of the iris flower. (Sepal and Petal / Length and Width) The exact number of species is unknown and the classification has been withheld from the data. 1. Grouping 2. Classification"
   ]
  },
  {
   "cell_type": "markdown",
   "id": "mighty-nirvana",
   "metadata": {},
   "source": [
    "<center>\n",
    "    <img src= \"https://upload.wikimedia.org/wikipedia/commons/4/49/Iris_germanica_%28Purple_bearded_Iris%29%2C_Wakehurst_Place%2C_UK_-_Diliff.jpg\" width=200 alt='[img: Mountain]'/> \n",
    "</center>"
   ]
  },
  {
   "cell_type": "markdown",
   "id": "adjacent-bikini",
   "metadata": {},
   "source": [
    "**The Project:** The project is to visualize the data and determine how many species are present in the data set. Once this is done, the data should be labeled with respect to the groupings. Then we need to use the Iris data set to classify the data. Finally these two different ways of classifying the data should be compared and a final `.csv` named `Random_Garden_Classes.csv` should be made and submitted."
   ]
  },
  {
   "cell_type": "markdown",
   "id": "activated-messaging",
   "metadata": {},
   "source": [
    "**To Do:** \n",
    "- Make a notebook that reads in the data set and graphs different features with respect to each other.\n",
    "- Determine how each column should be labeled and make a dataframe that has these names.\n",
    "- Use K-Means to determine how many groups we should have. (use the K-means notebook)\n",
    "    - Use K-means to classify the data and save this classification as a '.csv'\n",
    "- Use KNN and the original iris data set to classify the random garden.\n",
    "    - Save the `.csv` for this classification of the data set.\n",
    "- Compare the data classifications. How do they differ.\n",
    "- Submit the teams final answer to the classification of the Random Garden data. (This will be the file that is scored against the key. "
   ]
  },
  {
   "cell_type": "markdown",
   "id": "incident-emission",
   "metadata": {},
   "source": [
    "<font size=2> (Word of caution about the key. The order and amount of the data in `Garden_Data.csv` is important. The key will be linked to the elements as they appear in the data. If elements are removed, or shuffled, they will impact the score, since the data will be misaligned.) </font>"
   ]
  },
  {
   "cell_type": "markdown",
   "id": "floppy-sierra",
   "metadata": {},
   "source": [
    "---"
   ]
  },
  {
   "cell_type": "markdown",
   "id": "integrated-germany",
   "metadata": {},
   "source": [
    "## **Getting Started:**\n",
    "- Use the start here notebook to read the data in and start working with the data.\n",
    "- We need to be able to read the data in and start to see what we will need to clean the data.\n",
    "- What is the order of the features?\n",
    "- How do we get names on the columns?\n",
    "- How do we save a numpy array or panda's dataframe to a csv?"
   ]
  },
  {
   "cell_type": "code",
   "execution_count": null,
   "id": "occupational-diesel",
   "metadata": {},
   "outputs": [],
   "source": []
  }
 ],
 "metadata": {
  "kernelspec": {
   "display_name": "Python 3",
   "language": "python",
   "name": "python3"
  },
  "language_info": {
   "codemirror_mode": {
    "name": "ipython",
    "version": 3
   },
   "file_extension": ".py",
   "mimetype": "text/x-python",
   "name": "python",
   "nbconvert_exporter": "python",
   "pygments_lexer": "ipython3",
   "version": "3.6.9"
  }
 },
 "nbformat": 4,
 "nbformat_minor": 5
}
